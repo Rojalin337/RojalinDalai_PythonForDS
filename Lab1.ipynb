{
 "cells": [
  {
   "cell_type": "code",
   "execution_count": 1,
   "id": "258ce74b",
   "metadata": {},
   "outputs": [
    {
     "name": "stdout",
     "output_type": "stream",
     "text": [
      "Requirement already satisfied: mysql-connector-python in c:\\users\\rojalin\\anaconda3\\lib\\site-packages (8.0.27)\n",
      "Collecting protobuf>=3.0.0\n",
      "  Downloading protobuf-4.21.9-cp38-cp38-win_amd64.whl (525 kB)\n",
      "Installing collected packages: protobuf\n",
      "Successfully installed protobuf-4.21.9\n"
     ]
    }
   ],
   "source": [
    "!pip install mysql-connector-python\n",
    "\n"
   ]
  },
  {
   "cell_type": "code",
   "execution_count": 8,
   "id": "a0426fdf",
   "metadata": {},
   "outputs": [],
   "source": [
    "import mysql.connector\n",
    "import pandas as pd"
   ]
  },
  {
   "cell_type": "code",
   "execution_count": 9,
   "id": "e9016794",
   "metadata": {},
   "outputs": [],
   "source": [
    "import pandas as pd"
   ]
  },
  {
   "cell_type": "code",
   "execution_count": 6,
   "id": "02882c3b",
   "metadata": {},
   "outputs": [],
   "source": [
    "# creating a cursor object\n",
    "cursorObject = connection.cursor()\n",
    "\n",
    "# creating table\n",
    "Customers =     \"\"\"CREATE TABLE Customers (\n",
    "                   CUSTOMER_NAME  VARCHAR(20) NOT NULL,\n",
    "                   CUSTOMER_ID INT NOT NULL,\n",
    "                   AGE INT,\n",
    "                   PHNO INT,\n",
    "                   ORDER_ID INT NOT NULL\n",
    "                   )\"\"\"\n",
    "  \n",
    "# table created\n",
    "cursorObject.execute(Customers)\n",
    " "
   ]
  },
  {
   "cell_type": "code",
   "execution_count": 10,
   "id": "62e06051",
   "metadata": {},
   "outputs": [
    {
     "name": "stdout",
     "output_type": "stream",
     "text": [
      "<mysql.connector.connection_cext.CMySQLConnection object at 0x000001B8C2BE88B0>\n"
     ]
    }
   ],
   "source": [
    "connection = mysql.connector.connect(\n",
    "  host=\"localhost\",\n",
    "  user=\"root\",\n",
    "  password=\"ROjalin@89\",database=\"e_commerce\"\n",
    ")\n",
    "print(connection)\n"
   ]
  },
  {
   "cell_type": "code",
   "execution_count": 43,
   "id": "53590775",
   "metadata": {},
   "outputs": [],
   "source": [
    "mycursor = connection.cursor()\n",
    "mycursor.execute(\"create table supplier(SUPP_ID int primary key, SUPP_NAME varchar(50), SUPP_CITY varchar(50), SUPP_PHONE varchar(10))\")"
   ]
  },
  {
   "cell_type": "code",
   "execution_count": 44,
   "id": "832c8e16",
   "metadata": {},
   "outputs": [],
   "source": [
    "mycursor= connection.cursor()\n",
    "mycursor.execute(\"create table customer(CUS_ID INT NOT NULL, CUS_NAME VARCHAR(20) NULL DEFAULT NULL, CUS_PHONE VARCHAR(10), CUS_CITY varchar(30) ,CUS_GENDER CHAR,PRIMARY KEY (CUS_ID))\")"
   ]
  },
  {
   "cell_type": "code",
   "execution_count": 45,
   "id": "994a1e69",
   "metadata": {},
   "outputs": [],
   "source": [
    "mycursor=connection.cursor()\n",
    "mycursor.execute(\"create table category(CAT_ID INT NOT NULL, CAT_NAME VARCHAR(20) NULL DEFAULT NULL,PRIMARY KEY (CAT_ID))\")"
   ]
  },
  {
   "cell_type": "code",
   "execution_count": 46,
   "id": "c5a4f8e4",
   "metadata": {},
   "outputs": [],
   "source": [
    "mycursor=connection.cursor()\n",
    "mycursor.execute(\"create table product(PRO_ID INT NOT NULL, PRO_NAME VARCHAR(20) NULL DEFAULT NULL, PRO_DESC VARCHAR(60) NULL DEFAULT NULL, CAT_ID INT NOT NULL,PRIMARY KEY (PRO_ID),FOREIGN KEY (CAT_ID) REFERENCES CATEGORY (CAT_ID))\")"
   ]
  },
  {
   "cell_type": "code",
   "execution_count": 47,
   "id": "c1968734",
   "metadata": {},
   "outputs": [],
   "source": [
    "mycursor=connection.cursor()\n",
    "mycursor.execute(\"create table product_details(PROD_ID INT NOT NULL, PRO_ID INT NOT NULL, SUPP_ID INT NOT NULL, PROD_PRICE INT NOT NULL,PRIMARY KEY (PROD_ID),FOREIGN KEY (PRO_ID) REFERENCES PRODUCT (PRO_ID), FOREIGN KEY (SUPP_ID) REFERENCES SUPPLIER(SUPP_ID))\")"
   ]
  },
  {
   "cell_type": "code",
   "execution_count": 51,
   "id": "d8ca6cdd",
   "metadata": {},
   "outputs": [],
   "source": [
    "mycursor=connection.cursor()\n",
    "mycursor.execute(\"CREATE TABLE orders (`ORD_ID` INT NOT NULL,`ORD_AMOUNT` INT NOT NULL,`ORD_DATE` DATE,`CUS_ID` INT NOT NULL,`PROD_ID` INT NOT NULL, PRIMARY KEY (`ORD_ID`),FOREIGN KEY (`CUS_ID`) REFERENCES CUSTOMER(`CUS_ID`),FOREIGN KEY (`PROD_ID`) REFERENCES PRODUCT_DETAILS(`PROD_ID`))\")\n",
    "\n",
    "\n",
    "\n"
   ]
  },
  {
   "cell_type": "code",
   "execution_count": 53,
   "id": "09aae9d9",
   "metadata": {},
   "outputs": [],
   "source": [
    "mycursor=connection.cursor()\n",
    "mycursor.execute(\"CREATE TABLE rating (RAT_ID INT NOT NULL, CUS_ID INT NOT NULL, SUPP_ID INT NOT NULL, RAT_RATSTARS INT NOT NULL,PRIMARY KEY (RAT_ID),FOREIGN KEY (SUPP_ID) REFERENCES SUPPLIER (SUPP_ID),FOREIGN KEY (CUS_ID) REFERENCES CUSTOMER(CUS_ID))\")"
   ]
  },
  {
   "cell_type": "code",
   "execution_count": 54,
   "id": "a224594e",
   "metadata": {},
   "outputs": [],
   "source": [
    "insert_query = \"INSERT INTO supplier (SUPP_ID, SUPP_NAME, SUPP_CITY, SUPP_PHONE) VALUES (%s, %s, %s, %s)\"\n",
    "val = [(1,\"Rajesh Retails\",\"Delhi\",'1234567890'),\n",
    "       (2,\"Appario Ltd.\",\"Mumbai\",'2589631470'),\n",
    "       (3,\"Knome products\",\"Banglore\",'9785462315'),\n",
    "       (4,\"Bansal Retails\",\"Kochi\",'8975463285'),\n",
    "       (5,\"Mittal Ltd.\",\"Lucknow\",'7898456532')]\n",
    "\n",
    "   \n",
    "mycursor.executemany(insert_query, val)\n",
    "connection.commit()\n"
   ]
  },
  {
   "cell_type": "code",
   "execution_count": 55,
   "id": "277241cf",
   "metadata": {},
   "outputs": [],
   "source": [
    "insert_query = \"INSERT INTO customer(CUS_ID,CUS_NAME,CUS_PHONE,CUS_CITY,CUS_GENDER) VALUES(%s , %s , %s , %s , %s)\"\n",
    "val=[( 1,\"AAKASH\",\"9999999999\",\"DELHI\",'M'),\n",
    "     ( 2 ,\" AMAN\",\"9785463215 \",\" NOIDA \",'M'),\n",
    "(3 ,\"NEHA\", \"9999999998\",\"MUMBAI\",'F'),\n",
    "( 4,\"MEGHA\",\"9994562399\",\"KOLKATA\",'F'),\n",
    "(5 ,\"PULKIT\",\"7895999999\",\"LUCKNOW\",\"M\")]\n",
    "mycursor.executemany(insert_query, val)\n",
    "connection.commit()"
   ]
  },
  {
   "cell_type": "code",
   "execution_count": 56,
   "id": "8ebf2484",
   "metadata": {},
   "outputs": [],
   "source": [
    "insert_query=\"INSERT INTO category(CAT_ID,CAT_NAME) VALUES(%s , %s)\"\n",
    "val=[(1,\"BOOKS\"),\n",
    " (2,\"GAMES\"),  \n",
    " (3,\"GROCERIES\"), \n",
    "(4,\"ELECTRONICS\"),\n",
    " (5,\"CLOTHES\")]\n",
    "mycursor.executemany(insert_query, val)\n",
    "connection.commit()"
   ]
  },
  {
   "cell_type": "code",
   "execution_count": 11,
   "id": "7a686304",
   "metadata": {},
   "outputs": [],
   "source": [
    "mycursor=connection.cursor()\n",
    "insert_query=\"INSERT INTO product(PRO_ID,PRO_NAME,PRO_DESC,CAT_ID) VALUES(%s , %s , %s ,%s)\"\n",
    "val=[(1,\"GTA V\",\"DFJDJFDJFDJFDJFJF\",'2'),\n",
    "(2,\"TSHIRT\", \"DFDFJDFJDKFD\",'5'), \n",
    "(3 ,\"ROG LAPTOP\",\"DFNTTNTNTERND\",'4'),\n",
    "(4,\"OATS\",\"REURENTBTOTH\",'3'),\n",
    "(5,\"HARRY POTTER\" ,\"NBEMCTHTJTH\" ,'1') ]\n",
    "mycursor.executemany(insert_query, val)\n",
    "connection.commit()"
   ]
  },
  {
   "cell_type": "code",
   "execution_count": 12,
   "id": "df7cb355",
   "metadata": {},
   "outputs": [],
   "source": [
    "insert_query=\"INSERT INTO product_details(PROD_ID , PRO_ID,SUPP_ID,PROD_PRICE) VALUES(%s ,%s , %s , %s)\"\n",
    "val=[(1 ,1,2,1500),\n",
    "( 2,3,5,30000), \n",
    "(3,5,1,3000),\n",
    "(4,2,3,2500),\n",
    "(5,4,1,1000)]\n",
    "mycursor.executemany(insert_query, val)\n",
    "connection.commit()"
   ]
  },
  {
   "cell_type": "code",
   "execution_count": 21,
   "id": "58a91375",
   "metadata": {},
   "outputs": [],
   "source": [
    "insert_query=\"INSERT INTO orders(ORD_ID,ORD_AMOUNT,ORD_DATE,CUS_ID,PROD_ID) VALUES(%s ,%s , %s , %s , %s)\"\n",
    "val=[(20,1500,\"2021-10-12\",3,5),\n",
    "(25,30500,\"2021-09-16\",5 ,2 ),\n",
    "(26 ,2000,\"2021-10-05\",1 ,1),\n",
    "(30,3500,\"2021-08-16\",4,3),\n",
    "(50,2000,\"2021-10-06\",2,1)]\n",
    "mycursor.executemany(insert_query, val)\n",
    "connection.commit()"
   ]
  },
  {
   "cell_type": "code",
   "execution_count": 22,
   "id": "61f67681",
   "metadata": {},
   "outputs": [],
   "source": [
    "insert_query=\"INSERT INTO rating(RAT_ID,CUS_ID,SUPP_ID,RAT_RATSTARS) VALUES(%s ,%s , %s , %s )\"\n",
    "val=[(1,2,2,4),\n",
    "(2,3,4,3),\n",
    "(3,5,1,5),\n",
    "(4,1,3 ,2),\n",
    "(5,4 ,5,4)]\n",
    "mycursor.executemany(insert_query, val)\n",
    "connection.commit()"
   ]
  },
  {
   "cell_type": "markdown",
   "id": "a4637cde",
   "metadata": {},
   "source": [
    "#### Q3) Display the number of the customer group by their genders who have placed any order of amount greater than or equal to Rs.3000."
   ]
  },
  {
   "cell_type": "code",
   "execution_count": 26,
   "id": "56fc47ec",
   "metadata": {
    "scrolled": true
   },
   "outputs": [
    {
     "data": {
      "text/html": [
       "<div>\n",
       "<style scoped>\n",
       "    .dataframe tbody tr th:only-of-type {\n",
       "        vertical-align: middle;\n",
       "    }\n",
       "\n",
       "    .dataframe tbody tr th {\n",
       "        vertical-align: top;\n",
       "    }\n",
       "\n",
       "    .dataframe thead th {\n",
       "        text-align: right;\n",
       "    }\n",
       "</style>\n",
       "<table border=\"1\" class=\"dataframe\">\n",
       "  <thead>\n",
       "    <tr style=\"text-align: right;\">\n",
       "      <th></th>\n",
       "      <th>CUS_GENDER</th>\n",
       "      <th>count</th>\n",
       "    </tr>\n",
       "  </thead>\n",
       "  <tbody>\n",
       "    <tr>\n",
       "      <th>0</th>\n",
       "      <td>M</td>\n",
       "      <td>1</td>\n",
       "    </tr>\n",
       "    <tr>\n",
       "      <th>1</th>\n",
       "      <td>F</td>\n",
       "      <td>1</td>\n",
       "    </tr>\n",
       "  </tbody>\n",
       "</table>\n",
       "</div>"
      ],
      "text/plain": [
       "  CUS_GENDER  count\n",
       "0          M      1\n",
       "1          F      1"
      ]
     },
     "execution_count": 26,
     "metadata": {},
     "output_type": "execute_result"
    }
   ],
   "source": [
    "query3=\"\"\"select customer.CUS_GENDER ,count(customer.CUS_GENDER)as count from customer inner join orders on customer.CUS_ID=orders.CUS_ID where orders.ORD_AMOUNT>3000 group by customer.CUS_ID;\"\"\"\n",
    "mycursor.execute(query3)\n",
    "output=mycursor.fetchall()\n",
    "output_df=pd.DataFrame(output,columns =['CUS_GENDER','count'])\n",
    "output_df"
   ]
  },
  {
   "cell_type": "markdown",
   "id": "9878ba9d",
   "metadata": {},
   "source": [
    "### Q4) Display all the order along with product name ordered by a customer having Customer_Id=2"
   ]
  },
  {
   "cell_type": "code",
   "execution_count": 28,
   "id": "60bfe3f3",
   "metadata": {},
   "outputs": [
    {
     "data": {
      "text/html": [
       "<div>\n",
       "<style scoped>\n",
       "    .dataframe tbody tr th:only-of-type {\n",
       "        vertical-align: middle;\n",
       "    }\n",
       "\n",
       "    .dataframe tbody tr th {\n",
       "        vertical-align: top;\n",
       "    }\n",
       "\n",
       "    .dataframe thead th {\n",
       "        text-align: right;\n",
       "    }\n",
       "</style>\n",
       "<table border=\"1\" class=\"dataframe\">\n",
       "  <thead>\n",
       "    <tr style=\"text-align: right;\">\n",
       "      <th></th>\n",
       "      <th>PRO_NAME</th>\n",
       "      <th>ORD_ID</th>\n",
       "      <th>ORD_AMOUNT</th>\n",
       "      <th>ORD_DATE</th>\n",
       "      <th>CUS_ID</th>\n",
       "      <th>PROD_ID</th>\n",
       "    </tr>\n",
       "  </thead>\n",
       "  <tbody>\n",
       "    <tr>\n",
       "      <th>0</th>\n",
       "      <td>GTA V</td>\n",
       "      <td>50</td>\n",
       "      <td>2000</td>\n",
       "      <td>2021-10-06</td>\n",
       "      <td>2</td>\n",
       "      <td>1</td>\n",
       "    </tr>\n",
       "  </tbody>\n",
       "</table>\n",
       "</div>"
      ],
      "text/plain": [
       "  PRO_NAME  ORD_ID  ORD_AMOUNT    ORD_DATE  CUS_ID  PROD_ID\n",
       "0    GTA V      50        2000  2021-10-06       2        1"
      ]
     },
     "execution_count": 28,
     "metadata": {},
     "output_type": "execute_result"
    }
   ],
   "source": [
    "query4=\"\"\"select product.PRO_NAME,orders.* from product,orders where orders.CUS_ID=2 and orders.PROD_ID=product.PRO_ID;\"\"\"\n",
    "mycursor.execute(query4)\n",
    "output=mycursor.fetchall()\n",
    "output_df=pd.DataFrame(output,columns =['PRO_NAME','ORD_ID','ORD_AMOUNT','ORD_DATE','CUS_ID','PROD_ID'])\n",
    "output_df"
   ]
  },
  {
   "cell_type": "markdown",
   "id": "7a2986e4",
   "metadata": {},
   "source": [
    "### Q5) Display the Supplier details who can supply more than one product."
   ]
  },
  {
   "cell_type": "code",
   "execution_count": 29,
   "id": "e7781fa0",
   "metadata": {},
   "outputs": [
    {
     "data": {
      "text/html": [
       "<div>\n",
       "<style scoped>\n",
       "    .dataframe tbody tr th:only-of-type {\n",
       "        vertical-align: middle;\n",
       "    }\n",
       "\n",
       "    .dataframe tbody tr th {\n",
       "        vertical-align: top;\n",
       "    }\n",
       "\n",
       "    .dataframe thead th {\n",
       "        text-align: right;\n",
       "    }\n",
       "</style>\n",
       "<table border=\"1\" class=\"dataframe\">\n",
       "  <thead>\n",
       "    <tr style=\"text-align: right;\">\n",
       "      <th></th>\n",
       "      <th>SUPP_ID</th>\n",
       "      <th>SUPP_NAME</th>\n",
       "      <th>SUPP_CITY</th>\n",
       "      <th>SUPP_PHONE</th>\n",
       "    </tr>\n",
       "  </thead>\n",
       "  <tbody>\n",
       "    <tr>\n",
       "      <th>0</th>\n",
       "      <td>1</td>\n",
       "      <td>Rajesh Retails</td>\n",
       "      <td>Delhi</td>\n",
       "      <td>1234567890</td>\n",
       "    </tr>\n",
       "  </tbody>\n",
       "</table>\n",
       "</div>"
      ],
      "text/plain": [
       "   SUPP_ID       SUPP_NAME SUPP_CITY  SUPP_PHONE\n",
       "0        1  Rajesh Retails     Delhi  1234567890"
      ]
     },
     "execution_count": 29,
     "metadata": {},
     "output_type": "execute_result"
    }
   ],
   "source": [
    "query5=\"\"\" select supplier.* from supplier,product_details where supplier.SUPP_ID in( select product_details.SUPP_ID from product_details group by product_details.SUPP_ID having count(product_details.SUPP_ID)>1) group by supplier.SUPP_ID;\"\"\"\n",
    "mycursor.execute(query5)\n",
    "output=mycursor.fetchall()\n",
    "output_df=pd.DataFrame(output,columns =['SUPP_ID','SUPP_NAME','SUPP_CITY','SUPP_PHONE'])\n",
    "output_df"
   ]
  },
  {
   "cell_type": "markdown",
   "id": "cccaf679",
   "metadata": {},
   "source": [
    "### Q6) Find the category of the product whose order amount is minimum.\n"
   ]
  },
  {
   "cell_type": "code",
   "execution_count": 30,
   "id": "d2c59e15",
   "metadata": {},
   "outputs": [
    {
     "data": {
      "text/html": [
       "<div>\n",
       "<style scoped>\n",
       "    .dataframe tbody tr th:only-of-type {\n",
       "        vertical-align: middle;\n",
       "    }\n",
       "\n",
       "    .dataframe tbody tr th {\n",
       "        vertical-align: top;\n",
       "    }\n",
       "\n",
       "    .dataframe thead th {\n",
       "        text-align: right;\n",
       "    }\n",
       "</style>\n",
       "<table border=\"1\" class=\"dataframe\">\n",
       "  <thead>\n",
       "    <tr style=\"text-align: right;\">\n",
       "      <th></th>\n",
       "      <th>CAT_ID</th>\n",
       "      <th>CAT_NAME</th>\n",
       "    </tr>\n",
       "  </thead>\n",
       "  <tbody>\n",
       "    <tr>\n",
       "      <th>0</th>\n",
       "      <td>1</td>\n",
       "      <td>BOOKS</td>\n",
       "    </tr>\n",
       "  </tbody>\n",
       "</table>\n",
       "</div>"
      ],
      "text/plain": [
       "   CAT_ID CAT_NAME\n",
       "0       1    BOOKS"
      ]
     },
     "execution_count": 30,
     "metadata": {},
     "output_type": "execute_result"
    }
   ],
   "source": [
    "query6=\"\"\"select category.* from orders inner join  product_details on orders.PROD_ID=product_details.PROD_ID\n",
    "inner join product on product.PRO_ID=product_details.PRO_ID\n",
    "inner join category on category.CAT_ID=product.CAT_ID having  min(orders.ORD_AMOUNT) ;\"\"\"\n",
    "mycursor.execute(query6)\n",
    "output=mycursor.fetchall()\n",
    "output_df=pd.DataFrame(output,columns =['CAT_ID','CAT_NAME'])\n",
    "output_df\n"
   ]
  },
  {
   "cell_type": "markdown",
   "id": "b8e5f5a7",
   "metadata": {},
   "source": [
    "### Q7) Display the Id and Name of the Product ordered after “2021-10-05”."
   ]
  },
  {
   "cell_type": "code",
   "execution_count": 32,
   "id": "1dde92ff",
   "metadata": {},
   "outputs": [
    {
     "data": {
      "text/html": [
       "<div>\n",
       "<style scoped>\n",
       "    .dataframe tbody tr th:only-of-type {\n",
       "        vertical-align: middle;\n",
       "    }\n",
       "\n",
       "    .dataframe tbody tr th {\n",
       "        vertical-align: top;\n",
       "    }\n",
       "\n",
       "    .dataframe thead th {\n",
       "        text-align: right;\n",
       "    }\n",
       "</style>\n",
       "<table border=\"1\" class=\"dataframe\">\n",
       "  <thead>\n",
       "    <tr style=\"text-align: right;\">\n",
       "      <th></th>\n",
       "      <th>PROD_ID</th>\n",
       "      <th>PROD_NAME</th>\n",
       "    </tr>\n",
       "  </thead>\n",
       "  <tbody>\n",
       "    <tr>\n",
       "      <th>0</th>\n",
       "      <td>5</td>\n",
       "      <td>OATS</td>\n",
       "    </tr>\n",
       "    <tr>\n",
       "      <th>1</th>\n",
       "      <td>1</td>\n",
       "      <td>GTA V</td>\n",
       "    </tr>\n",
       "  </tbody>\n",
       "</table>\n",
       "</div>"
      ],
      "text/plain": [
       "   PROD_ID PROD_NAME\n",
       "0        5      OATS\n",
       "1        1     GTA V"
      ]
     },
     "execution_count": 32,
     "metadata": {},
     "output_type": "execute_result"
    }
   ],
   "source": [
    "query7=\"\"\"select product_details.PROD_ID,product.PRO_NAME from product_details inner join product on product_details.PRO_ID=product.PRO_ID\n",
    "inner join orders on orders.PROD_ID=product_details.PROD_ID where orders.ORD_DATE>\"2021-10-05\";\"\"\"\n",
    "mycursor.execute(query7)\n",
    "output=mycursor.fetchall()\n",
    "output_df=pd.DataFrame(output,columns =['PROD_ID','PROD_NAME'])\n",
    "output_df"
   ]
  },
  {
   "cell_type": "markdown",
   "id": "23f72edb",
   "metadata": {},
   "source": [
    "### Q8) Print the top 3 supplier name and id and rating on the basis of their rating along with the customer name who has given the rating."
   ]
  },
  {
   "cell_type": "code",
   "execution_count": 33,
   "id": "8a49aad9",
   "metadata": {},
   "outputs": [
    {
     "data": {
      "text/html": [
       "<div>\n",
       "<style scoped>\n",
       "    .dataframe tbody tr th:only-of-type {\n",
       "        vertical-align: middle;\n",
       "    }\n",
       "\n",
       "    .dataframe tbody tr th {\n",
       "        vertical-align: top;\n",
       "    }\n",
       "\n",
       "    .dataframe thead th {\n",
       "        text-align: right;\n",
       "    }\n",
       "</style>\n",
       "<table border=\"1\" class=\"dataframe\">\n",
       "  <thead>\n",
       "    <tr style=\"text-align: right;\">\n",
       "      <th></th>\n",
       "      <th>SUPP_ID</th>\n",
       "      <th>SUPP_NAME</th>\n",
       "      <th>CUS_NAME</th>\n",
       "      <th>RAT_RATSTARS</th>\n",
       "    </tr>\n",
       "  </thead>\n",
       "  <tbody>\n",
       "    <tr>\n",
       "      <th>0</th>\n",
       "      <td>1</td>\n",
       "      <td>Rajesh Retails</td>\n",
       "      <td>PULKIT</td>\n",
       "      <td>5</td>\n",
       "    </tr>\n",
       "    <tr>\n",
       "      <th>1</th>\n",
       "      <td>2</td>\n",
       "      <td>Appario Ltd.</td>\n",
       "      <td>AMAN</td>\n",
       "      <td>4</td>\n",
       "    </tr>\n",
       "    <tr>\n",
       "      <th>2</th>\n",
       "      <td>5</td>\n",
       "      <td>Mittal Ltd.</td>\n",
       "      <td>MEGHA</td>\n",
       "      <td>4</td>\n",
       "    </tr>\n",
       "  </tbody>\n",
       "</table>\n",
       "</div>"
      ],
      "text/plain": [
       "   SUPP_ID       SUPP_NAME CUS_NAME  RAT_RATSTARS\n",
       "0        1  Rajesh Retails   PULKIT             5\n",
       "1        2    Appario Ltd.     AMAN             4\n",
       "2        5     Mittal Ltd.    MEGHA             4"
      ]
     },
     "execution_count": 33,
     "metadata": {},
     "output_type": "execute_result"
    }
   ],
   "source": [
    "query8=\"\"\"select supplier.SUPP_ID,supplier.SUPP_NAME,customer.CUS_NAME,rating.RAT_RATSTARS from rating inner join supplier on rating.SUPP_ID=supplier.SUPP_ID\n",
    "inner join customer on rating.CUS_ID=customer.CUS_ID order by rating.RAT_RATSTARS desc limit 3;\"\"\"\n",
    "mycursor.execute(query8)\n",
    "output=mycursor.fetchall()\n",
    "output_df=pd.DataFrame(output,columns =['SUPP_ID','SUPP_NAME','CUS_NAME','RAT_RATSTARS'])\n",
    "output_df"
   ]
  },
  {
   "cell_type": "markdown",
   "id": "9b850eab",
   "metadata": {},
   "source": [
    "### Q9) Display customer name and gender whose names start or end with character 'A'."
   ]
  },
  {
   "cell_type": "code",
   "execution_count": 34,
   "id": "b58bc369",
   "metadata": {},
   "outputs": [
    {
     "data": {
      "text/html": [
       "<div>\n",
       "<style scoped>\n",
       "    .dataframe tbody tr th:only-of-type {\n",
       "        vertical-align: middle;\n",
       "    }\n",
       "\n",
       "    .dataframe tbody tr th {\n",
       "        vertical-align: top;\n",
       "    }\n",
       "\n",
       "    .dataframe thead th {\n",
       "        text-align: right;\n",
       "    }\n",
       "</style>\n",
       "<table border=\"1\" class=\"dataframe\">\n",
       "  <thead>\n",
       "    <tr style=\"text-align: right;\">\n",
       "      <th></th>\n",
       "      <th>CUS_NAME</th>\n",
       "      <th>CUS_GENDER</th>\n",
       "    </tr>\n",
       "  </thead>\n",
       "  <tbody>\n",
       "    <tr>\n",
       "      <th>0</th>\n",
       "      <td>AAKASH</td>\n",
       "      <td>M</td>\n",
       "    </tr>\n",
       "    <tr>\n",
       "      <th>1</th>\n",
       "      <td>NEHA</td>\n",
       "      <td>F</td>\n",
       "    </tr>\n",
       "    <tr>\n",
       "      <th>2</th>\n",
       "      <td>MEGHA</td>\n",
       "      <td>F</td>\n",
       "    </tr>\n",
       "  </tbody>\n",
       "</table>\n",
       "</div>"
      ],
      "text/plain": [
       "  CUS_NAME CUS_GENDER\n",
       "0   AAKASH          M\n",
       "1     NEHA          F\n",
       "2    MEGHA          F"
      ]
     },
     "execution_count": 34,
     "metadata": {},
     "output_type": "execute_result"
    }
   ],
   "source": [
    "query9=\"\"\"select customer.CUS_NAME,customer.CUS_GENDER from customer where customer.CUS_NAME like \"A%\" or customer.CUS_NAME like \"%A\";\"\"\"\n",
    "mycursor.execute(query9)\n",
    "output=mycursor.fetchall()\n",
    "output_df=pd.DataFrame(output,columns =['CUS_NAME','CUS_GENDER'])\n",
    "output_df"
   ]
  },
  {
   "cell_type": "markdown",
   "id": "7d182be0",
   "metadata": {},
   "source": [
    "### Q10) Display the total order amount of the male customers."
   ]
  },
  {
   "cell_type": "code",
   "execution_count": 35,
   "id": "90d0734e",
   "metadata": {},
   "outputs": [
    {
     "data": {
      "text/html": [
       "<div>\n",
       "<style scoped>\n",
       "    .dataframe tbody tr th:only-of-type {\n",
       "        vertical-align: middle;\n",
       "    }\n",
       "\n",
       "    .dataframe tbody tr th {\n",
       "        vertical-align: top;\n",
       "    }\n",
       "\n",
       "    .dataframe thead th {\n",
       "        text-align: right;\n",
       "    }\n",
       "</style>\n",
       "<table border=\"1\" class=\"dataframe\">\n",
       "  <thead>\n",
       "    <tr style=\"text-align: right;\">\n",
       "      <th></th>\n",
       "      <th>Amount</th>\n",
       "    </tr>\n",
       "  </thead>\n",
       "  <tbody>\n",
       "    <tr>\n",
       "      <th>0</th>\n",
       "      <td>34500</td>\n",
       "    </tr>\n",
       "  </tbody>\n",
       "</table>\n",
       "</div>"
      ],
      "text/plain": [
       "  Amount\n",
       "0  34500"
      ]
     },
     "execution_count": 35,
     "metadata": {},
     "output_type": "execute_result"
    }
   ],
   "source": [
    "query10=\"\"\"select sum(orders.ORD_AMOUNT) as Amount from orders inner join customer on orders.CUS_ID=customer.CUS_ID where customer.CUS_GENDER=\"M\";\"\"\"\n",
    "mycursor.execute(query10)\n",
    "output=mycursor.fetchall()\n",
    "output_df=pd.DataFrame(output,columns =['Amount'])\n",
    "output_df"
   ]
  },
  {
   "cell_type": "markdown",
   "id": "4c84a4d1",
   "metadata": {},
   "source": [
    "### Q11) Display all the Customers left outer join with  the orders"
   ]
  },
  {
   "cell_type": "code",
   "execution_count": 36,
   "id": "963360e0",
   "metadata": {},
   "outputs": [
    {
     "data": {
      "text/html": [
       "<div>\n",
       "<style scoped>\n",
       "    .dataframe tbody tr th:only-of-type {\n",
       "        vertical-align: middle;\n",
       "    }\n",
       "\n",
       "    .dataframe tbody tr th {\n",
       "        vertical-align: top;\n",
       "    }\n",
       "\n",
       "    .dataframe thead th {\n",
       "        text-align: right;\n",
       "    }\n",
       "</style>\n",
       "<table border=\"1\" class=\"dataframe\">\n",
       "  <thead>\n",
       "    <tr style=\"text-align: right;\">\n",
       "      <th></th>\n",
       "      <th>CUS_ID</th>\n",
       "      <th>CUS_NAME</th>\n",
       "      <th>SUPP_PHONE</th>\n",
       "      <th>CUS_CITY</th>\n",
       "      <th>CUS_GENDER</th>\n",
       "    </tr>\n",
       "  </thead>\n",
       "  <tbody>\n",
       "    <tr>\n",
       "      <th>0</th>\n",
       "      <td>1</td>\n",
       "      <td>AAKASH</td>\n",
       "      <td>9999999999</td>\n",
       "      <td>DELHI</td>\n",
       "      <td>M</td>\n",
       "    </tr>\n",
       "    <tr>\n",
       "      <th>1</th>\n",
       "      <td>2</td>\n",
       "      <td>AMAN</td>\n",
       "      <td>9785463215</td>\n",
       "      <td>NOIDA</td>\n",
       "      <td>M</td>\n",
       "    </tr>\n",
       "    <tr>\n",
       "      <th>2</th>\n",
       "      <td>3</td>\n",
       "      <td>NEHA</td>\n",
       "      <td>9999999998</td>\n",
       "      <td>MUMBAI</td>\n",
       "      <td>F</td>\n",
       "    </tr>\n",
       "    <tr>\n",
       "      <th>3</th>\n",
       "      <td>4</td>\n",
       "      <td>MEGHA</td>\n",
       "      <td>9994562399</td>\n",
       "      <td>KOLKATA</td>\n",
       "      <td>F</td>\n",
       "    </tr>\n",
       "    <tr>\n",
       "      <th>4</th>\n",
       "      <td>5</td>\n",
       "      <td>PULKIT</td>\n",
       "      <td>7895999999</td>\n",
       "      <td>LUCKNOW</td>\n",
       "      <td>M</td>\n",
       "    </tr>\n",
       "  </tbody>\n",
       "</table>\n",
       "</div>"
      ],
      "text/plain": [
       "   CUS_ID CUS_NAME  SUPP_PHONE CUS_CITY CUS_GENDER\n",
       "0       1   AAKASH  9999999999    DELHI          M\n",
       "1       2     AMAN  9785463215   NOIDA           M\n",
       "2       3     NEHA  9999999998   MUMBAI          F\n",
       "3       4    MEGHA  9994562399  KOLKATA          F\n",
       "4       5   PULKIT  7895999999  LUCKNOW          M"
      ]
     },
     "execution_count": 36,
     "metadata": {},
     "output_type": "execute_result"
    }
   ],
   "source": [
    "query11=\"\"\"select customer.* from customer left outer join orders on customer.CUS_ID=orders.CUS_ID;\"\"\"\n",
    "mycursor.execute(query11)\n",
    "output=mycursor.fetchall()\n",
    "output_df=pd.DataFrame(output,columns =['CUS_ID','CUS_NAME','SUPP_PHONE','CUS_CITY','CUS_GENDER'])\n",
    "output_df"
   ]
  },
  {
   "cell_type": "code",
   "execution_count": null,
   "id": "43dd744d",
   "metadata": {},
   "outputs": [],
   "source": []
  }
 ],
 "metadata": {
  "kernelspec": {
   "display_name": "Python 3",
   "language": "python",
   "name": "python3"
  },
  "language_info": {
   "codemirror_mode": {
    "name": "ipython",
    "version": 3
   },
   "file_extension": ".py",
   "mimetype": "text/x-python",
   "name": "python",
   "nbconvert_exporter": "python",
   "pygments_lexer": "ipython3",
   "version": "3.8.8"
  }
 },
 "nbformat": 4,
 "nbformat_minor": 5
}

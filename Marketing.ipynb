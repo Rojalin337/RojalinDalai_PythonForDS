{
 "cells": [
  {
   "cell_type": "markdown",
   "id": "0f7d1878",
   "metadata": {},
   "source": [
    "# Unsupervised Lab Session\n"
   ]
  },
  {
   "cell_type": "markdown",
   "id": "986eea05",
   "metadata": {},
   "source": [
    "## Learning outcomes:\n",
    "- Exploratory data analysis and data preparation for model building.\n",
    "- PCA for dimensionality reduction.\n",
    "- K-means and Agglomerative Clustering"
   ]
  },
  {
   "cell_type": "markdown",
   "id": "a38c1025",
   "metadata": {},
   "source": [
    "# Problem Statement\n",
    "Based on the given marketing campigan dataset, segment the similar customers into suitable clusters. Analyze the clusters and provide your insights to help the organization promote their business.\n",
    "## Context:\n",
    "- Customer Personality Analysis is a detailed analysis of a company’s ideal customers. It helps a business to better understand its customers and makes it easier for them to modify products according to the specific needs, behaviors and concerns of different types of customers.\n",
    "- Customer personality analysis helps a business to modify its product based on its target customers from different types of customer segments. For example, instead of spending money to market a new product to every customer in the company’s database, a company can analyze which customer segment is most likely to buy the product and then market the product only on that particular segment."
   ]
  },
  {
   "cell_type": "markdown",
   "id": "b14d0d93",
   "metadata": {},
   "source": [
    "# About dataset\n",
    "- Source: https://www.kaggle.com/datasets/imakash3011/customer-personality-analysis?datasetId=1546318&sortBy=voteCount\n",
    "\n",
    "### Attribute Information:\n",
    "- ID: Customer's unique identifier\n",
    "- Year_Birth: Customer's birth year\n",
    "- Education: Customer's education level\n",
    "- Marital_Status: Customer's marital status\n",
    "- Income: Customer's yearly household income\n",
    "- Kidhome: Number of children in customer's household\n",
    "- Teenhome: Number of teenagers in customer's household\n",
    "- Dt_Customer: Date of customer's enrollment with the company\n",
    "- Recency: Number of days since customer's last purchase\n",
    "- Complain: 1 if the customer complained in the last 2 years, 0 otherwise\n",
    "- MntWines: Amount spent on wine in last 2 years\n",
    "- MntFruits: Amount spent on fruits in last 2 years\n",
    "- MntMeatProducts: Amount spent on meat in last 2 years\n",
    "- MntFishProducts: Amount spent on fish in last 2 years\n",
    "- MntSweetProducts: Amount spent on sweets in last 2 years\n",
    "- MntGoldProds: Amount spent on gold in last 2 years\n",
    "- NumDealsPurchases: Number of purchases made with a discount\n",
    "- AcceptedCmp1: 1 if customer accepted the offer in the 1st campaign, 0 otherwise\n",
    "- AcceptedCmp2: 1 if customer accepted the offer in the 2nd campaign, 0 otherwise\n",
    "- AcceptedCmp3: 1 if customer accepted the offer in the 3rd campaign, 0 otherwise\n",
    "- AcceptedCmp4: 1 if customer accepted the offer in the 4th campaign, 0 otherwise\n",
    "- AcceptedCmp5: 1 if customer accepted the offer in the 5th campaign, 0 otherwise\n",
    "- Response: 1 if customer accepted the offer in the last campaign, 0 otherwise\n",
    "- NumWebPurchases: Number of purchases made through the company’s website\n",
    "- NumCatalogPurchases: Number of purchases made using a catalogue\n",
    "- NumStorePurchases: Number of purchases made directly in stores\n",
    "- NumWebVisitsMonth: Number of visits to company’s website in the last month"
   ]
  },
  {
   "cell_type": "markdown",
   "id": "d9edcbb0",
   "metadata": {},
   "source": [
    "# 1. Import required libraries"
   ]
  },
  {
   "cell_type": "code",
   "execution_count": 1,
   "id": "28bd9d3a",
   "metadata": {},
   "outputs": [],
   "source": [
    "import pandas as pd\n",
    "import numpy as np\n",
    "import seaborn as sns\n",
    "import matplotlib.pyplot as plt\n"
   ]
  },
  {
   "cell_type": "markdown",
   "id": "15c4d0eb",
   "metadata": {},
   "source": [
    "# 2. Load the CSV file (i.e marketing.csv) and display the first 5 rows of the dataframe. Check the shape and info of the dataset."
   ]
  },
  {
   "cell_type": "code",
   "execution_count": 4,
   "id": "1776614c",
   "metadata": {},
   "outputs": [
    {
     "data": {
      "text/html": [
       "<div>\n",
       "<style scoped>\n",
       "    .dataframe tbody tr th:only-of-type {\n",
       "        vertical-align: middle;\n",
       "    }\n",
       "\n",
       "    .dataframe tbody tr th {\n",
       "        vertical-align: top;\n",
       "    }\n",
       "\n",
       "    .dataframe thead th {\n",
       "        text-align: right;\n",
       "    }\n",
       "</style>\n",
       "<table border=\"1\" class=\"dataframe\">\n",
       "  <thead>\n",
       "    <tr style=\"text-align: right;\">\n",
       "      <th></th>\n",
       "      <th>ID</th>\n",
       "      <th>Year_Birth</th>\n",
       "      <th>Education</th>\n",
       "      <th>Marital_Status</th>\n",
       "      <th>Income</th>\n",
       "      <th>Kidhome</th>\n",
       "      <th>Teenhome</th>\n",
       "      <th>Dt_Customer</th>\n",
       "      <th>Recency</th>\n",
       "      <th>MntWines</th>\n",
       "      <th>...</th>\n",
       "      <th>NumCatalogPurchases</th>\n",
       "      <th>NumStorePurchases</th>\n",
       "      <th>NumWebVisitsMonth</th>\n",
       "      <th>AcceptedCmp3</th>\n",
       "      <th>AcceptedCmp4</th>\n",
       "      <th>AcceptedCmp5</th>\n",
       "      <th>AcceptedCmp1</th>\n",
       "      <th>AcceptedCmp2</th>\n",
       "      <th>Complain</th>\n",
       "      <th>Response</th>\n",
       "    </tr>\n",
       "  </thead>\n",
       "  <tbody>\n",
       "    <tr>\n",
       "      <th>0</th>\n",
       "      <td>5524</td>\n",
       "      <td>1957</td>\n",
       "      <td>Graduation</td>\n",
       "      <td>Single</td>\n",
       "      <td>58138.0</td>\n",
       "      <td>0</td>\n",
       "      <td>0</td>\n",
       "      <td>4/9/2012</td>\n",
       "      <td>58</td>\n",
       "      <td>635</td>\n",
       "      <td>...</td>\n",
       "      <td>10</td>\n",
       "      <td>4</td>\n",
       "      <td>7</td>\n",
       "      <td>0</td>\n",
       "      <td>0</td>\n",
       "      <td>0</td>\n",
       "      <td>0</td>\n",
       "      <td>0</td>\n",
       "      <td>0</td>\n",
       "      <td>1</td>\n",
       "    </tr>\n",
       "    <tr>\n",
       "      <th>1</th>\n",
       "      <td>2174</td>\n",
       "      <td>1954</td>\n",
       "      <td>Graduation</td>\n",
       "      <td>Single</td>\n",
       "      <td>46344.0</td>\n",
       "      <td>1</td>\n",
       "      <td>1</td>\n",
       "      <td>8/3/2014</td>\n",
       "      <td>38</td>\n",
       "      <td>11</td>\n",
       "      <td>...</td>\n",
       "      <td>1</td>\n",
       "      <td>2</td>\n",
       "      <td>5</td>\n",
       "      <td>0</td>\n",
       "      <td>0</td>\n",
       "      <td>0</td>\n",
       "      <td>0</td>\n",
       "      <td>0</td>\n",
       "      <td>0</td>\n",
       "      <td>0</td>\n",
       "    </tr>\n",
       "    <tr>\n",
       "      <th>2</th>\n",
       "      <td>4141</td>\n",
       "      <td>1965</td>\n",
       "      <td>Graduation</td>\n",
       "      <td>Together</td>\n",
       "      <td>71613.0</td>\n",
       "      <td>0</td>\n",
       "      <td>0</td>\n",
       "      <td>21-08-2013</td>\n",
       "      <td>26</td>\n",
       "      <td>426</td>\n",
       "      <td>...</td>\n",
       "      <td>2</td>\n",
       "      <td>10</td>\n",
       "      <td>4</td>\n",
       "      <td>0</td>\n",
       "      <td>0</td>\n",
       "      <td>0</td>\n",
       "      <td>0</td>\n",
       "      <td>0</td>\n",
       "      <td>0</td>\n",
       "      <td>0</td>\n",
       "    </tr>\n",
       "    <tr>\n",
       "      <th>3</th>\n",
       "      <td>6182</td>\n",
       "      <td>1984</td>\n",
       "      <td>Graduation</td>\n",
       "      <td>Together</td>\n",
       "      <td>26646.0</td>\n",
       "      <td>1</td>\n",
       "      <td>0</td>\n",
       "      <td>10/2/2014</td>\n",
       "      <td>26</td>\n",
       "      <td>11</td>\n",
       "      <td>...</td>\n",
       "      <td>0</td>\n",
       "      <td>4</td>\n",
       "      <td>6</td>\n",
       "      <td>0</td>\n",
       "      <td>0</td>\n",
       "      <td>0</td>\n",
       "      <td>0</td>\n",
       "      <td>0</td>\n",
       "      <td>0</td>\n",
       "      <td>0</td>\n",
       "    </tr>\n",
       "    <tr>\n",
       "      <th>4</th>\n",
       "      <td>5324</td>\n",
       "      <td>1981</td>\n",
       "      <td>PhD</td>\n",
       "      <td>Married</td>\n",
       "      <td>58293.0</td>\n",
       "      <td>1</td>\n",
       "      <td>0</td>\n",
       "      <td>19-01-2014</td>\n",
       "      <td>94</td>\n",
       "      <td>173</td>\n",
       "      <td>...</td>\n",
       "      <td>3</td>\n",
       "      <td>6</td>\n",
       "      <td>5</td>\n",
       "      <td>0</td>\n",
       "      <td>0</td>\n",
       "      <td>0</td>\n",
       "      <td>0</td>\n",
       "      <td>0</td>\n",
       "      <td>0</td>\n",
       "      <td>0</td>\n",
       "    </tr>\n",
       "  </tbody>\n",
       "</table>\n",
       "<p>5 rows × 27 columns</p>\n",
       "</div>"
      ],
      "text/plain": [
       "     ID  Year_Birth   Education Marital_Status   Income  Kidhome  Teenhome  \\\n",
       "0  5524        1957  Graduation         Single  58138.0        0         0   \n",
       "1  2174        1954  Graduation         Single  46344.0        1         1   \n",
       "2  4141        1965  Graduation       Together  71613.0        0         0   \n",
       "3  6182        1984  Graduation       Together  26646.0        1         0   \n",
       "4  5324        1981         PhD        Married  58293.0        1         0   \n",
       "\n",
       "  Dt_Customer  Recency  MntWines  ...  NumCatalogPurchases  NumStorePurchases  \\\n",
       "0    4/9/2012       58       635  ...                   10                  4   \n",
       "1    8/3/2014       38        11  ...                    1                  2   \n",
       "2  21-08-2013       26       426  ...                    2                 10   \n",
       "3   10/2/2014       26        11  ...                    0                  4   \n",
       "4  19-01-2014       94       173  ...                    3                  6   \n",
       "\n",
       "   NumWebVisitsMonth  AcceptedCmp3  AcceptedCmp4  AcceptedCmp5  AcceptedCmp1  \\\n",
       "0                  7             0             0             0             0   \n",
       "1                  5             0             0             0             0   \n",
       "2                  4             0             0             0             0   \n",
       "3                  6             0             0             0             0   \n",
       "4                  5             0             0             0             0   \n",
       "\n",
       "   AcceptedCmp2  Complain  Response  \n",
       "0             0         0         1  \n",
       "1             0         0         0  \n",
       "2             0         0         0  \n",
       "3             0         0         0  \n",
       "4             0         0         0  \n",
       "\n",
       "[5 rows x 27 columns]"
      ]
     },
     "execution_count": 4,
     "metadata": {},
     "output_type": "execute_result"
    }
   ],
   "source": [
    "data = pd.read_csv(r'marketing.csv')\n",
    "data.head(5)\n"
   ]
  },
  {
   "cell_type": "code",
   "execution_count": 4,
   "id": "d79ff253",
   "metadata": {},
   "outputs": [
    {
     "data": {
      "text/plain": [
       "(2240, 27)"
      ]
     },
     "execution_count": 4,
     "metadata": {},
     "output_type": "execute_result"
    }
   ],
   "source": [
    "data.shape"
   ]
  },
  {
   "cell_type": "code",
   "execution_count": 5,
   "id": "111e59a4",
   "metadata": {},
   "outputs": [
    {
     "name": "stdout",
     "output_type": "stream",
     "text": [
      "<class 'pandas.core.frame.DataFrame'>\n",
      "RangeIndex: 2240 entries, 0 to 2239\n",
      "Data columns (total 27 columns):\n",
      " #   Column               Non-Null Count  Dtype  \n",
      "---  ------               --------------  -----  \n",
      " 0   ID                   2240 non-null   int64  \n",
      " 1   Year_Birth           2240 non-null   int64  \n",
      " 2   Education            2240 non-null   object \n",
      " 3   Marital_Status       2240 non-null   object \n",
      " 4   Income               2216 non-null   float64\n",
      " 5   Kidhome              2240 non-null   int64  \n",
      " 6   Teenhome             2240 non-null   int64  \n",
      " 7   Dt_Customer          2240 non-null   object \n",
      " 8   Recency              2240 non-null   int64  \n",
      " 9   MntWines             2240 non-null   int64  \n",
      " 10  MntFruits            2240 non-null   int64  \n",
      " 11  MntMeatProducts      2240 non-null   int64  \n",
      " 12  MntFishProducts      2240 non-null   int64  \n",
      " 13  MntSweetProducts     2240 non-null   int64  \n",
      " 14  MntGoldProds         2240 non-null   int64  \n",
      " 15  NumDealsPurchases    2240 non-null   int64  \n",
      " 16  NumWebPurchases      2240 non-null   int64  \n",
      " 17  NumCatalogPurchases  2240 non-null   int64  \n",
      " 18  NumStorePurchases    2240 non-null   int64  \n",
      " 19  NumWebVisitsMonth    2240 non-null   int64  \n",
      " 20  AcceptedCmp3         2240 non-null   int64  \n",
      " 21  AcceptedCmp4         2240 non-null   int64  \n",
      " 22  AcceptedCmp5         2240 non-null   int64  \n",
      " 23  AcceptedCmp1         2240 non-null   int64  \n",
      " 24  AcceptedCmp2         2240 non-null   int64  \n",
      " 25  Complain             2240 non-null   int64  \n",
      " 26  Response             2240 non-null   int64  \n",
      "dtypes: float64(1), int64(23), object(3)\n",
      "memory usage: 472.6+ KB\n"
     ]
    }
   ],
   "source": [
    "data.info()"
   ]
  },
  {
   "cell_type": "markdown",
   "id": "5ec6e4f9",
   "metadata": {},
   "source": [
    "# 3. Check the percentage of missing values? If there is presence of missing values, treat them accordingly."
   ]
  },
  {
   "cell_type": "code",
   "execution_count": 6,
   "id": "1712cd5d",
   "metadata": {},
   "outputs": [
    {
     "data": {
      "text/plain": [
       "ID                     0.000000\n",
       "Year_Birth             0.000000\n",
       "Education              0.000000\n",
       "Marital_Status         0.000000\n",
       "Income                 1.071429\n",
       "Kidhome                0.000000\n",
       "Teenhome               0.000000\n",
       "Dt_Customer            0.000000\n",
       "Recency                0.000000\n",
       "MntWines               0.000000\n",
       "MntFruits              0.000000\n",
       "MntMeatProducts        0.000000\n",
       "MntFishProducts        0.000000\n",
       "MntSweetProducts       0.000000\n",
       "MntGoldProds           0.000000\n",
       "NumDealsPurchases      0.000000\n",
       "NumWebPurchases        0.000000\n",
       "NumCatalogPurchases    0.000000\n",
       "NumStorePurchases      0.000000\n",
       "NumWebVisitsMonth      0.000000\n",
       "AcceptedCmp3           0.000000\n",
       "AcceptedCmp4           0.000000\n",
       "AcceptedCmp5           0.000000\n",
       "AcceptedCmp1           0.000000\n",
       "AcceptedCmp2           0.000000\n",
       "Complain               0.000000\n",
       "Response               0.000000\n",
       "dtype: float64"
      ]
     },
     "execution_count": 6,
     "metadata": {},
     "output_type": "execute_result"
    }
   ],
   "source": [
    "data.isnull().sum()/len(data) *100"
   ]
  },
  {
   "cell_type": "markdown",
   "id": "fd5236f4",
   "metadata": {},
   "source": [
    "# 4. Check if there are any duplicate records in the dataset? If any drop them."
   ]
  },
  {
   "cell_type": "code",
   "execution_count": 8,
   "id": "fd330d49",
   "metadata": {},
   "outputs": [
    {
     "data": {
      "text/html": [
       "<div>\n",
       "<style scoped>\n",
       "    .dataframe tbody tr th:only-of-type {\n",
       "        vertical-align: middle;\n",
       "    }\n",
       "\n",
       "    .dataframe tbody tr th {\n",
       "        vertical-align: top;\n",
       "    }\n",
       "\n",
       "    .dataframe thead th {\n",
       "        text-align: right;\n",
       "    }\n",
       "</style>\n",
       "<table border=\"1\" class=\"dataframe\">\n",
       "  <thead>\n",
       "    <tr style=\"text-align: right;\">\n",
       "      <th></th>\n",
       "      <th>ID</th>\n",
       "      <th>Year_Birth</th>\n",
       "      <th>Education</th>\n",
       "      <th>Marital_Status</th>\n",
       "      <th>Income</th>\n",
       "      <th>Kidhome</th>\n",
       "      <th>Teenhome</th>\n",
       "      <th>Dt_Customer</th>\n",
       "      <th>Recency</th>\n",
       "      <th>MntWines</th>\n",
       "      <th>...</th>\n",
       "      <th>NumCatalogPurchases</th>\n",
       "      <th>NumStorePurchases</th>\n",
       "      <th>NumWebVisitsMonth</th>\n",
       "      <th>AcceptedCmp3</th>\n",
       "      <th>AcceptedCmp4</th>\n",
       "      <th>AcceptedCmp5</th>\n",
       "      <th>AcceptedCmp1</th>\n",
       "      <th>AcceptedCmp2</th>\n",
       "      <th>Complain</th>\n",
       "      <th>Response</th>\n",
       "    </tr>\n",
       "  </thead>\n",
       "  <tbody>\n",
       "  </tbody>\n",
       "</table>\n",
       "<p>0 rows × 27 columns</p>\n",
       "</div>"
      ],
      "text/plain": [
       "Empty DataFrame\n",
       "Columns: [ID, Year_Birth, Education, Marital_Status, Income, Kidhome, Teenhome, Dt_Customer, Recency, MntWines, MntFruits, MntMeatProducts, MntFishProducts, MntSweetProducts, MntGoldProds, NumDealsPurchases, NumWebPurchases, NumCatalogPurchases, NumStorePurchases, NumWebVisitsMonth, AcceptedCmp3, AcceptedCmp4, AcceptedCmp5, AcceptedCmp1, AcceptedCmp2, Complain, Response]\n",
       "Index: []\n",
       "\n",
       "[0 rows x 27 columns]"
      ]
     },
     "execution_count": 8,
     "metadata": {},
     "output_type": "execute_result"
    }
   ],
   "source": [
    "data[data.duplicated()]"
   ]
  },
  {
   "cell_type": "markdown",
   "id": "0c8be461",
   "metadata": {},
   "source": [
    "# 5. Drop the columns which you think redundant for the analysis "
   ]
  },
  {
   "cell_type": "code",
   "execution_count": 9,
   "id": "f7b6dbc0",
   "metadata": {},
   "outputs": [
    {
     "data": {
      "text/plain": [
       "Index(['ID', 'Year_Birth', 'Education', 'Marital_Status', 'Income', 'Kidhome',\n",
       "       'Teenhome', 'Dt_Customer', 'Recency', 'MntWines', 'MntFruits',\n",
       "       'MntMeatProducts', 'MntFishProducts', 'MntSweetProducts',\n",
       "       'MntGoldProds', 'NumDealsPurchases', 'NumWebPurchases',\n",
       "       'NumCatalogPurchases', 'NumStorePurchases', 'NumWebVisitsMonth',\n",
       "       'AcceptedCmp3', 'AcceptedCmp4', 'AcceptedCmp5', 'AcceptedCmp1',\n",
       "       'AcceptedCmp2', 'Complain', 'Response'],\n",
       "      dtype='object')"
      ]
     },
     "execution_count": 9,
     "metadata": {},
     "output_type": "execute_result"
    }
   ],
   "source": [
    "data.columns"
   ]
  },
  {
   "cell_type": "code",
   "execution_count": 3,
   "id": "d29b7148",
   "metadata": {},
   "outputs": [],
   "source": [
    "data.drop(['ID','Dt_Customer'], axis=1,inplace=True)"
   ]
  },
  {
   "cell_type": "markdown",
   "id": "786c5074",
   "metadata": {},
   "source": [
    "# 6. Check the unique categories in the column 'Marital_Status'\n",
    "- i) Group categories 'Married', 'Together' as 'relationship'\n",
    "- ii) Group categories 'Divorced', 'Widow', 'Alone', 'YOLO', and 'Absurd' as 'Single'."
   ]
  },
  {
   "cell_type": "code",
   "execution_count": 13,
   "id": "7f2364af",
   "metadata": {},
   "outputs": [
    {
     "data": {
      "text/plain": [
       "array(['Single', 'relationship'], dtype=object)"
      ]
     },
     "execution_count": 13,
     "metadata": {},
     "output_type": "execute_result"
    }
   ],
   "source": [
    "data['Marital_Status'].unique()"
   ]
  },
  {
   "cell_type": "code",
   "execution_count": 12,
   "id": "760f157e",
   "metadata": {},
   "outputs": [],
   "source": [
    "data[\"Marital_Status\"] = data[\"Marital_Status\"].replace([\"Divorced\", \"Widow\",\"Alone\", \"YOLO\",  \"Absurd\"], \"Single\")\n",
    "data[\"Marital_Status\"] = data[\"Marital_Status\"].replace([\"Married\", \"Together\"], \"relationship\")"
   ]
  },
  {
   "cell_type": "markdown",
   "id": "51fc733b",
   "metadata": {},
   "source": [
    "# 7. Group the columns 'MntWines', 'MntFruits', 'MntMeatProducts', 'MntFishProducts', 'MntSweetProducts', and 'MntGoldProds' as 'Total_Expenses'"
   ]
  },
  {
   "cell_type": "code",
   "execution_count": 15,
   "id": "57c89f3a",
   "metadata": {},
   "outputs": [],
   "source": [
    "data[\"Total_Expenses\"] = data[[\"MntWines\", \"MntFruits\", \"MntMeatProducts\", \"MntFishProducts\", \"MntSweetProducts\", \"MntGoldProds\"]].sum(axis=1)"
   ]
  },
  {
   "cell_type": "code",
   "execution_count": 17,
   "id": "8d0b70ed",
   "metadata": {},
   "outputs": [
    {
     "data": {
      "text/plain": [
       "0       1617\n",
       "1         27\n",
       "2        776\n",
       "3         53\n",
       "4        422\n",
       "        ... \n",
       "2235    1341\n",
       "2236     444\n",
       "2237    1241\n",
       "2238     843\n",
       "2239     172\n",
       "Name: Total_Expenses, Length: 2240, dtype: int64"
      ]
     },
     "execution_count": 17,
     "metadata": {},
     "output_type": "execute_result"
    }
   ],
   "source": [
    "data[\"Total_Expenses\"]"
   ]
  },
  {
   "cell_type": "markdown",
   "id": "50f62100",
   "metadata": {},
   "source": [
    "# 8. Group the columns 'NumWebPurchases', 'NumCatalogPurchases', 'NumStorePurchases', and 'NumDealsPurchases' as 'Num_Total_Purchases'"
   ]
  },
  {
   "cell_type": "code",
   "execution_count": 19,
   "id": "33838718",
   "metadata": {},
   "outputs": [],
   "source": [
    "data[\"Num_Total_Purchases\"] = data[[\"NumWebPurchases\", \"NumCatalogPurchases\", \"NumStorePurchases\",\"NumDealsPurchases\"]].sum(axis=1)"
   ]
  },
  {
   "cell_type": "code",
   "execution_count": 20,
   "id": "fac58abf",
   "metadata": {},
   "outputs": [
    {
     "data": {
      "text/plain": [
       "0       25\n",
       "1        6\n",
       "2       21\n",
       "3        8\n",
       "4       19\n",
       "        ..\n",
       "2235    18\n",
       "2236    22\n",
       "2237    19\n",
       "2238    23\n",
       "2239    11\n",
       "Name: Num_Total_Purchases, Length: 2240, dtype: int64"
      ]
     },
     "execution_count": 20,
     "metadata": {},
     "output_type": "execute_result"
    }
   ],
   "source": [
    "data[\"Num_Total_Purchases\"]"
   ]
  },
  {
   "cell_type": "markdown",
   "id": "4d04ae8f",
   "metadata": {},
   "source": [
    "# 9. Group the columns 'Kidhome' and 'Teenhome' as 'Kids'"
   ]
  },
  {
   "cell_type": "code",
   "execution_count": 21,
   "id": "e0703be8",
   "metadata": {},
   "outputs": [],
   "source": [
    "data[\"Kids\"] = data[\"Kidhome\"] + data[\"Teenhome\"]"
   ]
  },
  {
   "cell_type": "code",
   "execution_count": 22,
   "id": "915b963e",
   "metadata": {},
   "outputs": [
    {
     "data": {
      "text/plain": [
       "0       0\n",
       "1       2\n",
       "2       0\n",
       "3       1\n",
       "4       1\n",
       "       ..\n",
       "2235    1\n",
       "2236    3\n",
       "2237    0\n",
       "2238    1\n",
       "2239    2\n",
       "Name: Kids, Length: 2240, dtype: int64"
      ]
     },
     "execution_count": 22,
     "metadata": {},
     "output_type": "execute_result"
    }
   ],
   "source": [
    "data[\"Kids\"]"
   ]
  },
  {
   "cell_type": "markdown",
   "id": "90c075b0",
   "metadata": {},
   "source": [
    "# 10. Group columns 'AcceptedCmp1 , 2 , 3 , 4, 5' and 'Response' as 'TotalAcceptedCmp'"
   ]
  },
  {
   "cell_type": "code",
   "execution_count": 23,
   "id": "f56b0c6c",
   "metadata": {},
   "outputs": [],
   "source": [
    "data[\"TotalAcceptedCmp\"] = data[[\"AcceptedCmp1\", \"AcceptedCmp2\", \"AcceptedCmp3\",\"AcceptedCmp4\",\"AcceptedCmp5\",\"Response\"]].sum(axis=1)"
   ]
  },
  {
   "cell_type": "code",
   "execution_count": 24,
   "id": "78843447",
   "metadata": {},
   "outputs": [
    {
     "data": {
      "text/plain": [
       "0       1\n",
       "1       0\n",
       "2       0\n",
       "3       0\n",
       "4       0\n",
       "       ..\n",
       "2235    0\n",
       "2236    1\n",
       "2237    1\n",
       "2238    0\n",
       "2239    1\n",
       "Name: TotalAcceptedCmp, Length: 2240, dtype: int64"
      ]
     },
     "execution_count": 24,
     "metadata": {},
     "output_type": "execute_result"
    }
   ],
   "source": [
    "data[\"TotalAcceptedCmp\"]"
   ]
  },
  {
   "cell_type": "markdown",
   "id": "809f457d",
   "metadata": {},
   "source": [
    "# 11. Drop those columns which we have used above for obtaining new features"
   ]
  },
  {
   "cell_type": "code",
   "execution_count": 26,
   "id": "6a91ace9",
   "metadata": {},
   "outputs": [
    {
     "data": {
      "text/plain": [
       "Index(['ID', 'Year_Birth', 'Education', 'Marital_Status', 'Income', 'Kidhome',\n",
       "       'Teenhome', 'Dt_Customer', 'Recency', 'MntWines', 'MntFruits',\n",
       "       'MntMeatProducts', 'MntFishProducts', 'MntSweetProducts',\n",
       "       'MntGoldProds', 'NumDealsPurchases', 'NumWebPurchases',\n",
       "       'NumCatalogPurchases', 'NumStorePurchases', 'NumWebVisitsMonth',\n",
       "       'AcceptedCmp3', 'AcceptedCmp4', 'AcceptedCmp5', 'AcceptedCmp1',\n",
       "       'AcceptedCmp2', 'Complain', 'Response', 'Total_Expenses',\n",
       "       'Num_Total_Purchases', 'Kids', 'TotalAcceptedCmp'],\n",
       "      dtype='object')"
      ]
     },
     "execution_count": 26,
     "metadata": {},
     "output_type": "execute_result"
    }
   ],
   "source": [
    "data.columns"
   ]
  },
  {
   "cell_type": "code",
   "execution_count": 27,
   "id": "10bbf195",
   "metadata": {},
   "outputs": [],
   "source": [
    "data.drop(['Total_Expenses',\n",
    "       'Num_Total_Purchases', 'Kids', 'TotalAcceptedCmp'], axis=1,inplace=True)"
   ]
  },
  {
   "cell_type": "code",
   "execution_count": 28,
   "id": "10585312",
   "metadata": {},
   "outputs": [
    {
     "data": {
      "text/plain": [
       "Index(['ID', 'Year_Birth', 'Education', 'Marital_Status', 'Income', 'Kidhome',\n",
       "       'Teenhome', 'Dt_Customer', 'Recency', 'MntWines', 'MntFruits',\n",
       "       'MntMeatProducts', 'MntFishProducts', 'MntSweetProducts',\n",
       "       'MntGoldProds', 'NumDealsPurchases', 'NumWebPurchases',\n",
       "       'NumCatalogPurchases', 'NumStorePurchases', 'NumWebVisitsMonth',\n",
       "       'AcceptedCmp3', 'AcceptedCmp4', 'AcceptedCmp5', 'AcceptedCmp1',\n",
       "       'AcceptedCmp2', 'Complain', 'Response'],\n",
       "      dtype='object')"
      ]
     },
     "execution_count": 28,
     "metadata": {},
     "output_type": "execute_result"
    }
   ],
   "source": [
    "data.columns"
   ]
  },
  {
   "cell_type": "markdown",
   "id": "9c46e8d7",
   "metadata": {},
   "source": [
    "# 12. Extract 'age' using the column 'Year_Birth' and then drop the column 'Year_birth'"
   ]
  },
  {
   "cell_type": "code",
   "execution_count": 34,
   "id": "81e99642",
   "metadata": {},
   "outputs": [],
   "source": [
    "data['age']= 2023-data['Year_Birth']\n",
    "data.drop('Year_Birth',axis=1,inplace=True)"
   ]
  },
  {
   "cell_type": "code",
   "execution_count": 36,
   "id": "e731581b",
   "metadata": {},
   "outputs": [
    {
     "data": {
      "text/plain": [
       "0       66\n",
       "1       69\n",
       "2       58\n",
       "3       39\n",
       "4       42\n",
       "        ..\n",
       "2235    56\n",
       "2236    77\n",
       "2237    42\n",
       "2238    67\n",
       "2239    69\n",
       "Name: age, Length: 2240, dtype: int64"
      ]
     },
     "execution_count": 36,
     "metadata": {},
     "output_type": "execute_result"
    }
   ],
   "source": [
    "data['age']"
   ]
  },
  {
   "cell_type": "markdown",
   "id": "1eb868ad",
   "metadata": {},
   "source": [
    "# 13. Encode the categorical variables in the dataset"
   ]
  },
  {
   "cell_type": "code",
   "execution_count": 5,
   "id": "d00b2671",
   "metadata": {},
   "outputs": [],
   "source": [
    "import sklearn\n",
    "from sklearn.preprocessing import StandardScaler,LabelEncoder\n"
   ]
  },
  {
   "cell_type": "code",
   "execution_count": 6,
   "id": "1c527462",
   "metadata": {},
   "outputs": [],
   "source": [
    "cate=['Education', 'Marital_Status']\n",
    "lbl_encode=LabelEncoder()\n",
    "for i in cate:\n",
    "    data[i]=data[[i]].apply(lbl_encode.fit_transform)"
   ]
  },
  {
   "cell_type": "markdown",
   "id": "6c8a8310",
   "metadata": {},
   "source": [
    "# 14. Standardize the columns, so that values are in a particular range"
   ]
  },
  {
   "cell_type": "code",
   "execution_count": 6,
   "id": "5529e2a5",
   "metadata": {},
   "outputs": [],
   "source": [
    "df=data.copy()\n",
    "scaled_features=StandardScaler().fit_transform(df.values)\n",
    "scaled_features_df=pd.DataFrame(scaled_features,index=df.index,columns=df.columns)"
   ]
  },
  {
   "cell_type": "code",
   "execution_count": 14,
   "id": "5a668932",
   "metadata": {},
   "outputs": [
    {
     "data": {
      "text/html": [
       "<div>\n",
       "<style scoped>\n",
       "    .dataframe tbody tr th:only-of-type {\n",
       "        vertical-align: middle;\n",
       "    }\n",
       "\n",
       "    .dataframe tbody tr th {\n",
       "        vertical-align: top;\n",
       "    }\n",
       "\n",
       "    .dataframe thead th {\n",
       "        text-align: right;\n",
       "    }\n",
       "</style>\n",
       "<table border=\"1\" class=\"dataframe\">\n",
       "  <thead>\n",
       "    <tr style=\"text-align: right;\">\n",
       "      <th></th>\n",
       "      <th>Year_Birth</th>\n",
       "      <th>Education</th>\n",
       "      <th>Marital_Status</th>\n",
       "      <th>Income</th>\n",
       "      <th>Kidhome</th>\n",
       "      <th>Teenhome</th>\n",
       "      <th>Recency</th>\n",
       "      <th>MntWines</th>\n",
       "      <th>MntFruits</th>\n",
       "      <th>MntMeatProducts</th>\n",
       "      <th>...</th>\n",
       "      <th>NumCatalogPurchases</th>\n",
       "      <th>NumStorePurchases</th>\n",
       "      <th>NumWebVisitsMonth</th>\n",
       "      <th>AcceptedCmp3</th>\n",
       "      <th>AcceptedCmp4</th>\n",
       "      <th>AcceptedCmp5</th>\n",
       "      <th>AcceptedCmp1</th>\n",
       "      <th>AcceptedCmp2</th>\n",
       "      <th>Complain</th>\n",
       "      <th>Response</th>\n",
       "    </tr>\n",
       "  </thead>\n",
       "  <tbody>\n",
       "    <tr>\n",
       "      <th>0</th>\n",
       "      <td>-0.985345</td>\n",
       "      <td>-0.350141</td>\n",
       "      <td>0.251004</td>\n",
       "      <td>0.234063</td>\n",
       "      <td>-0.825218</td>\n",
       "      <td>-0.929894</td>\n",
       "      <td>0.307039</td>\n",
       "      <td>0.983781</td>\n",
       "      <td>1.551577</td>\n",
       "      <td>1.679702</td>\n",
       "      <td>...</td>\n",
       "      <td>2.510890</td>\n",
       "      <td>-0.550785</td>\n",
       "      <td>0.693904</td>\n",
       "      <td>-0.28014</td>\n",
       "      <td>-0.28383</td>\n",
       "      <td>-0.28014</td>\n",
       "      <td>-0.262111</td>\n",
       "      <td>-0.11651</td>\n",
       "      <td>-0.097282</td>\n",
       "      <td>2.388846</td>\n",
       "    </tr>\n",
       "    <tr>\n",
       "      <th>1</th>\n",
       "      <td>-1.235733</td>\n",
       "      <td>-0.350141</td>\n",
       "      <td>0.251004</td>\n",
       "      <td>-0.234559</td>\n",
       "      <td>1.032559</td>\n",
       "      <td>0.906934</td>\n",
       "      <td>-0.383664</td>\n",
       "      <td>-0.870479</td>\n",
       "      <td>-0.636301</td>\n",
       "      <td>-0.713225</td>\n",
       "      <td>...</td>\n",
       "      <td>-0.568720</td>\n",
       "      <td>-1.166125</td>\n",
       "      <td>-0.130463</td>\n",
       "      <td>-0.28014</td>\n",
       "      <td>-0.28383</td>\n",
       "      <td>-0.28014</td>\n",
       "      <td>-0.262111</td>\n",
       "      <td>-0.11651</td>\n",
       "      <td>-0.097282</td>\n",
       "      <td>-0.418612</td>\n",
       "    </tr>\n",
       "    <tr>\n",
       "      <th>2</th>\n",
       "      <td>-0.317643</td>\n",
       "      <td>-0.350141</td>\n",
       "      <td>1.180340</td>\n",
       "      <td>0.769478</td>\n",
       "      <td>-0.825218</td>\n",
       "      <td>-0.929894</td>\n",
       "      <td>-0.798086</td>\n",
       "      <td>0.362723</td>\n",
       "      <td>0.570804</td>\n",
       "      <td>-0.177032</td>\n",
       "      <td>...</td>\n",
       "      <td>-0.226541</td>\n",
       "      <td>1.295237</td>\n",
       "      <td>-0.542647</td>\n",
       "      <td>-0.28014</td>\n",
       "      <td>-0.28383</td>\n",
       "      <td>-0.28014</td>\n",
       "      <td>-0.262111</td>\n",
       "      <td>-0.11651</td>\n",
       "      <td>-0.097282</td>\n",
       "      <td>-0.418612</td>\n",
       "    </tr>\n",
       "    <tr>\n",
       "      <th>3</th>\n",
       "      <td>1.268149</td>\n",
       "      <td>-0.350141</td>\n",
       "      <td>1.180340</td>\n",
       "      <td>-1.017239</td>\n",
       "      <td>1.032559</td>\n",
       "      <td>-0.929894</td>\n",
       "      <td>-0.798086</td>\n",
       "      <td>-0.870479</td>\n",
       "      <td>-0.560857</td>\n",
       "      <td>-0.651187</td>\n",
       "      <td>...</td>\n",
       "      <td>-0.910898</td>\n",
       "      <td>-0.550785</td>\n",
       "      <td>0.281720</td>\n",
       "      <td>-0.28014</td>\n",
       "      <td>-0.28383</td>\n",
       "      <td>-0.28014</td>\n",
       "      <td>-0.262111</td>\n",
       "      <td>-0.11651</td>\n",
       "      <td>-0.097282</td>\n",
       "      <td>-0.418612</td>\n",
       "    </tr>\n",
       "    <tr>\n",
       "      <th>4</th>\n",
       "      <td>1.017761</td>\n",
       "      <td>1.428354</td>\n",
       "      <td>-0.678332</td>\n",
       "      <td>0.240221</td>\n",
       "      <td>1.032559</td>\n",
       "      <td>-0.929894</td>\n",
       "      <td>1.550305</td>\n",
       "      <td>-0.389085</td>\n",
       "      <td>0.419916</td>\n",
       "      <td>-0.216914</td>\n",
       "      <td>...</td>\n",
       "      <td>0.115638</td>\n",
       "      <td>0.064556</td>\n",
       "      <td>-0.130463</td>\n",
       "      <td>-0.28014</td>\n",
       "      <td>-0.28383</td>\n",
       "      <td>-0.28014</td>\n",
       "      <td>-0.262111</td>\n",
       "      <td>-0.11651</td>\n",
       "      <td>-0.097282</td>\n",
       "      <td>-0.418612</td>\n",
       "    </tr>\n",
       "  </tbody>\n",
       "</table>\n",
       "<p>5 rows × 25 columns</p>\n",
       "</div>"
      ],
      "text/plain": [
       "   Year_Birth  Education  Marital_Status    Income   Kidhome  Teenhome  \\\n",
       "0   -0.985345  -0.350141        0.251004  0.234063 -0.825218 -0.929894   \n",
       "1   -1.235733  -0.350141        0.251004 -0.234559  1.032559  0.906934   \n",
       "2   -0.317643  -0.350141        1.180340  0.769478 -0.825218 -0.929894   \n",
       "3    1.268149  -0.350141        1.180340 -1.017239  1.032559 -0.929894   \n",
       "4    1.017761   1.428354       -0.678332  0.240221  1.032559 -0.929894   \n",
       "\n",
       "    Recency  MntWines  MntFruits  MntMeatProducts  ...  NumCatalogPurchases  \\\n",
       "0  0.307039  0.983781   1.551577         1.679702  ...             2.510890   \n",
       "1 -0.383664 -0.870479  -0.636301        -0.713225  ...            -0.568720   \n",
       "2 -0.798086  0.362723   0.570804        -0.177032  ...            -0.226541   \n",
       "3 -0.798086 -0.870479  -0.560857        -0.651187  ...            -0.910898   \n",
       "4  1.550305 -0.389085   0.419916        -0.216914  ...             0.115638   \n",
       "\n",
       "   NumStorePurchases  NumWebVisitsMonth  AcceptedCmp3  AcceptedCmp4  \\\n",
       "0          -0.550785           0.693904      -0.28014      -0.28383   \n",
       "1          -1.166125          -0.130463      -0.28014      -0.28383   \n",
       "2           1.295237          -0.542647      -0.28014      -0.28383   \n",
       "3          -0.550785           0.281720      -0.28014      -0.28383   \n",
       "4           0.064556          -0.130463      -0.28014      -0.28383   \n",
       "\n",
       "   AcceptedCmp5  AcceptedCmp1  AcceptedCmp2  Complain  Response  \n",
       "0      -0.28014     -0.262111      -0.11651 -0.097282  2.388846  \n",
       "1      -0.28014     -0.262111      -0.11651 -0.097282 -0.418612  \n",
       "2      -0.28014     -0.262111      -0.11651 -0.097282 -0.418612  \n",
       "3      -0.28014     -0.262111      -0.11651 -0.097282 -0.418612  \n",
       "4      -0.28014     -0.262111      -0.11651 -0.097282 -0.418612  \n",
       "\n",
       "[5 rows x 25 columns]"
      ]
     },
     "execution_count": 14,
     "metadata": {},
     "output_type": "execute_result"
    }
   ],
   "source": [
    "scaled_features_df.head()"
   ]
  },
  {
   "cell_type": "code",
   "execution_count": 9,
   "id": "199a9e55",
   "metadata": {},
   "outputs": [],
   "source": [
    "#scaled_features_df.isnull().sum()\n",
    "#scaled_features_df[\"Income\"].fillna(value = 0,inplace = True)"
   ]
  },
  {
   "cell_type": "markdown",
   "id": "6cb180ae",
   "metadata": {},
   "source": [
    "# 15. Apply PCA on the above dataset and determine the number of PCA components to be used so that 90-95% of the variance in data is explained by the same."
   ]
  },
  {
   "cell_type": "code",
   "execution_count": 15,
   "id": "114e8e15",
   "metadata": {},
   "outputs": [
    {
     "data": {
      "text/plain": [
       "array([[ 1.00044663e+00, -1.71466853e-01, -6.06069703e-02,\n",
       "        -1.60148885e-01,  2.30278341e-01, -3.52268696e-01,\n",
       "        -1.98799637e-02, -1.57842989e-01, -1.79252427e-02,\n",
       "        -3.08861876e-02, -4.16439684e-02, -1.81407051e-02,\n",
       "        -6.18457914e-02, -6.08727256e-02, -1.45104917e-01,\n",
       "        -1.21328797e-01, -1.28329345e-01,  1.21193363e-01,\n",
       "         6.18020701e-02, -6.05366207e-02,  7.12572266e-03,\n",
       "        -5.93296539e-03, -6.54220470e-03, -3.01410006e-02,\n",
       "         2.13347389e-02],\n",
       "       [-1.71466853e-01,  1.00044663e+00,  7.09359926e-03,\n",
       "         1.19382562e-01, -4.55846687e-02,  1.18537895e-01,\n",
       "        -1.17336854e-02,  1.97663931e-01, -8.04479228e-02,\n",
       "         3.36401826e-02, -1.12272706e-01, -1.05263841e-01,\n",
       "        -9.55315770e-02,  3.00883137e-02,  8.19442467e-02,\n",
       "         7.08136347e-02,  7.05142844e-02, -4.02988173e-02,\n",
       "         5.83883041e-03,  5.32894097e-02,  3.33606497e-02,\n",
       "        -1.08496219e-02,  2.13783967e-02, -5.05625191e-02,\n",
       "         9.08600553e-02],\n",
       "       [-6.06069703e-02,  7.09359926e-03,  1.00044663e+00,\n",
       "         2.11620012e-02, -2.25633587e-02, -3.59761188e-03,\n",
       "         1.41648789e-02,  8.20842851e-03,  5.93412251e-04,\n",
       "         3.07031169e-02,  3.58238734e-02,  1.73894770e-02,\n",
       "         1.68900885e-03, -2.17814143e-02, -1.89493823e-03,\n",
       "         1.51319349e-02,  1.41215486e-03, -3.12239808e-02,\n",
       "        -2.71253859e-02,  1.43874748e-02,  1.28225854e-02,\n",
       "        -1.71048114e-02,  1.84250307e-02, -5.72028181e-03,\n",
       "        -1.14083465e-02],\n",
       "       [-1.60148885e-01,  1.19382562e-01,  2.11620012e-02,\n",
       "         9.89727557e-01, -4.23081021e-01,  1.89243702e-02,\n",
       "        -3.92705402e-03,  5.73947176e-01,  4.26634451e-01,\n",
       "         5.74955125e-01,  4.35340836e-01,  4.34012479e-01,\n",
       "         3.20391030e-01, -8.18843088e-02,  3.78675285e-01,\n",
       "         5.83833612e-01,  5.23895092e-01, -5.47114920e-01,\n",
       "        -1.60879018e-02,  1.81889833e-01,  3.33200421e-01,\n",
       "         2.73566452e-01,  8.71070073e-02, -2.70889795e-02,\n",
       "         1.32102339e-01],\n",
       "       [ 2.30278341e-01, -4.55846687e-02, -2.25633587e-02,\n",
       "        -4.23081021e-01,  1.00044663e+00, -3.61492870e-02,\n",
       "         8.83067651e-03, -4.96518587e-01, -3.72747856e-01,\n",
       "        -4.37324717e-01, -3.87817089e-01, -3.70838584e-01,\n",
       "        -3.49750737e-01,  2.21896895e-01, -3.61808738e-01,\n",
       "        -5.02461536e-01, -4.99905737e-01,  4.48046223e-01,\n",
       "         1.46809329e-02, -1.61672660e-01, -2.05725573e-01,\n",
       "        -1.72415548e-01, -8.17528789e-02,  4.02244659e-02,\n",
       "        -8.00435160e-02],\n",
       "       [-3.52268696e-01,  1.18537895e-01, -3.59761188e-03,\n",
       "         1.89243702e-02, -3.61492870e-02,  1.00044663e+00,\n",
       "         1.62049769e-02,  4.84856984e-03, -1.76842609e-01,\n",
       "        -2.61276154e-01, -2.04278512e-01, -1.62547677e-01,\n",
       "        -2.17349723e-02,  3.87914246e-01,  1.55569213e-01,\n",
       "        -1.10818037e-01,  5.07178776e-02,  1.34943797e-01,\n",
       "        -4.26959811e-02,  3.89037925e-02, -1.91135083e-01,\n",
       "        -1.40152113e-01, -1.56118298e-02,  3.13910788e-03,\n",
       "        -1.54514570e-01],\n",
       "       [-1.98799637e-02, -1.17336854e-02,  1.41648789e-02,\n",
       "        -3.92705402e-03,  8.83067651e-03,  1.62049769e-02,\n",
       "         1.00044663e+00,  1.60710771e-02, -4.30756462e-03,\n",
       "         2.30663484e-02,  1.07944935e-03,  2.26797308e-02,\n",
       "         1.67007272e-02, -1.09885735e-03, -1.07310773e-02,\n",
       "         2.51217067e-02,  7.99192352e-04, -2.14542684e-02,\n",
       "        -3.30053252e-02,  1.88340262e-02,  1.28966919e-04,\n",
       "        -1.92913773e-02, -1.78212325e-03,  1.32369878e-02,\n",
       "        -1.98525274e-01],\n",
       "       [-1.57842989e-01,  1.97663931e-01,  8.20842851e-03,\n",
       "         5.73947176e-01, -4.96518587e-01,  4.84856984e-03,\n",
       "         1.60710771e-02,  1.00044663e+00,  3.89810704e-01,\n",
       "         5.62917817e-01,  3.99931202e-01,  3.86753812e-01,\n",
       "         3.87688755e-01,  1.09447580e-02,  5.42506971e-01,\n",
       "         6.35509448e-01,  6.42387218e-01, -3.20796010e-01,\n",
       "         6.22295678e-02,  3.73452743e-01,  4.72824346e-01,\n",
       "         3.54291365e-01,  2.05999028e-01, -3.90245630e-02,\n",
       "         2.47364930e-01],\n",
       "       [-1.79252427e-02, -8.04479228e-02,  5.93412251e-04,\n",
       "         4.26634451e-01, -3.72747856e-01, -1.76842609e-01,\n",
       "        -4.30756462e-03,  3.89810704e-01,  1.00044663e+00,\n",
       "         5.43347126e-01,  5.95069166e-01,  5.67417251e-01,\n",
       "         3.93170542e-01, -1.32173219e-01,  2.96867095e-01,\n",
       "         4.88135251e-01,  4.61964348e-01, -4.18569838e-01,\n",
       "         1.47334338e-02,  1.01567163e-02,  2.15929184e-01,\n",
       "         1.94835126e-01, -9.77758863e-03, -5.16859525e-03,\n",
       "         1.25344766e-01],\n",
       "       [-3.08861876e-02,  3.36401826e-02,  3.07031169e-02,\n",
       "         5.74955125e-01, -4.37324717e-01, -2.61276154e-01,\n",
       "         2.30663484e-02,  5.62917817e-01,  5.43347126e-01,\n",
       "         1.00044663e+00,  5.68655994e-01,  5.24080181e-01,\n",
       "         3.50765116e-01, -1.22470075e-01,  2.93892686e-01,\n",
       "         7.24149872e-01,  4.79873010e-01, -5.39710766e-01,\n",
       "         1.82799541e-02,  1.02958176e-01,  3.73935789e-01,\n",
       "         3.09899074e-01,  4.30526456e-02, -2.34935417e-02,\n",
       "         2.36440674e-01],\n",
       "       [-4.16439684e-02, -1.12272706e-01,  3.58238734e-02,\n",
       "         4.35340836e-01, -3.87817089e-01, -2.04278512e-01,\n",
       "         1.07944935e-03,  3.99931202e-01,  5.95069166e-01,\n",
       "         5.68655994e-01,  1.00044663e+00,  5.80129067e-01,\n",
       "         4.23063669e-01, -1.39422869e-01,  2.93811914e-01,\n",
       "         5.34717049e-01,  4.60060011e-01, -4.46201852e-01,\n",
       "         3.57385570e-04,  1.68503211e-02,  1.99666915e-01,\n",
       "         2.60878562e-01,  2.57785546e-03, -2.09622015e-02,\n",
       "         1.11380518e-01],\n",
       "       [-1.81407051e-02, -1.05263841e-01,  1.73894770e-02,\n",
       "         4.34012479e-01, -3.70838584e-01, -1.62547677e-01,\n",
       "         2.26797308e-02,  3.86753812e-01,  5.67417251e-01,\n",
       "         5.24080181e-01,  5.80129067e-01,  1.00044663e+00,\n",
       "         3.69889430e-01, -1.20153907e-01,  3.48699953e-01,\n",
       "         4.91143188e-01,  4.48956380e-01, -4.23483194e-01,\n",
       "         1.53062883e-03,  2.86534998e-02,  2.59706351e-01,\n",
       "         2.41925821e-01,  9.98969163e-03, -2.24950018e-02,\n",
       "         1.17424322e-01],\n",
       "       [-6.18457914e-02, -9.55315770e-02,  1.68900885e-03,\n",
       "         3.20391030e-01, -3.49750737e-01, -2.17349723e-02,\n",
       "         1.67007272e-02,  3.87688755e-01,  3.93170542e-01,\n",
       "         3.50765116e-01,  4.23063669e-01,  3.69889430e-01,\n",
       "         1.00044663e+00,  4.91070798e-02,  4.22024303e-01,\n",
       "         4.37892932e-01,  3.81848482e-01, -2.50830716e-01,\n",
       "         1.23146035e-01,  2.22779229e-02,  1.81102006e-01,\n",
       "         1.66470418e-01,  5.00126143e-02, -3.08750100e-02,\n",
       "         1.39912598e-01],\n",
       "       [-6.08727256e-02,  3.00883137e-02, -2.17814143e-02,\n",
       "        -8.18843088e-02,  2.21896895e-01,  3.87914246e-01,\n",
       "        -1.09885735e-03,  1.09447580e-02, -1.32173219e-01,\n",
       "        -1.22470075e-01, -1.39422869e-01, -1.20153907e-01,\n",
       "         4.91070798e-02,  1.00044663e+00,  2.34289281e-01,\n",
       "        -8.62109502e-03,  6.89095893e-02,  3.47788621e-01,\n",
       "        -2.31192577e-02,  1.56012263e-02, -1.83329706e-01,\n",
       "        -1.23299478e-01, -3.77115939e-02,  4.19836440e-04,\n",
       "         2.23931296e-03],\n",
       "       [-1.45104917e-01,  8.19442467e-02, -1.89493823e-03,\n",
       "         3.78675285e-01, -3.61808738e-01,  1.55569213e-01,\n",
       "        -1.07310773e-02,  5.42506971e-01,  2.96867095e-01,\n",
       "         2.93892686e-01,  2.93811914e-01,  3.48699953e-01,\n",
       "         4.22024303e-01,  2.34289281e-01,  1.00044663e+00,\n",
       "         3.78544542e-01,  5.02937939e-01, -5.58712742e-02,\n",
       "         4.21943619e-02,  1.55972452e-01,  1.38745981e-01,\n",
       "         1.55212119e-01,  3.42030047e-02, -1.63174795e-02,\n",
       "         1.48796012e-01],\n",
       "       [-1.21328797e-01,  7.08136347e-02,  1.51319349e-02,\n",
       "         5.83833612e-01, -5.02461536e-01, -1.10818037e-01,\n",
       "         2.51217067e-02,  6.35509448e-01,  4.88135251e-01,\n",
       "         7.24149872e-01,  5.34717049e-01,  4.91143188e-01,\n",
       "         4.37892932e-01, -8.62109502e-03,  3.78544542e-01,\n",
       "         1.00044663e+00,  5.18969966e-01, -5.20596124e-01,\n",
       "         1.04776301e-01,  1.39309454e-01,  3.22465454e-01,\n",
       "         3.08234174e-01,  9.98969559e-02, -2.04622659e-02,\n",
       "         2.20909039e-01],\n",
       "       [-1.28329345e-01,  7.05142844e-02,  1.41215486e-03,\n",
       "         5.23895092e-01, -4.99905737e-01,  5.07178776e-02,\n",
       "         7.99192352e-04,  6.42387218e-01,  4.61964348e-01,\n",
       "         4.79873010e-01,  4.60060011e-01,  4.48956380e-01,\n",
       "         3.81848482e-01,  6.89095893e-02,  5.02937939e-01,\n",
       "         5.18969966e-01,  1.00044663e+00, -4.28663895e-01,\n",
       "        -6.76075625e-02,  1.79459566e-01,  2.14886104e-01,\n",
       "         1.83330566e-01,  8.52274790e-02, -1.65316096e-02,\n",
       "         3.93810243e-02],\n",
       "       [ 1.21193363e-01, -4.02988173e-02, -3.12239808e-02,\n",
       "        -5.47114920e-01,  4.48046223e-01,  1.34943797e-01,\n",
       "        -2.14542684e-02, -3.20796010e-01, -4.18569838e-01,\n",
       "        -5.39710766e-01, -4.46201852e-01, -4.23483194e-01,\n",
       "        -2.50830716e-01,  3.47788621e-01, -5.58712742e-02,\n",
       "        -5.20596124e-01, -4.28663895e-01,  1.00044663e+00,\n",
       "         6.12384905e-02, -3.21400411e-02, -2.78236747e-01,\n",
       "        -1.92587518e-01, -7.19961588e-03,  1.97773363e-02,\n",
       "        -3.98837924e-03],\n",
       "       [ 6.18020701e-02,  5.83883041e-03, -2.71253859e-02,\n",
       "        -1.60879018e-02,  1.46809329e-02, -4.26959811e-02,\n",
       "        -3.30053252e-02,  6.22295678e-02,  1.47334338e-02,\n",
       "         1.82799541e-02,  3.57385570e-04,  1.53062883e-03,\n",
       "         1.23146035e-01, -2.31192577e-02,  4.21943619e-02,\n",
       "         1.04776301e-01, -6.76075625e-02,  6.12384905e-02,\n",
       "         1.00044663e+00, -7.95477799e-02,  8.03516878e-02,\n",
       "         9.47928511e-02,  7.20520853e-02,  8.41915612e-03,\n",
       "         2.54371842e-01],\n",
       "       [-6.05366207e-02,  5.32894097e-02,  1.43874748e-02,\n",
       "         1.81889833e-01, -1.61672660e-01,  3.89037925e-02,\n",
       "         1.88340262e-02,  3.73452743e-01,  1.01567163e-02,\n",
       "         1.02958176e-01,  1.68503211e-02,  2.86534998e-02,\n",
       "         2.22779229e-02,  1.56012263e-02,  1.55972452e-01,\n",
       "         1.39309454e-01,  1.79459566e-01, -3.21400411e-02,\n",
       "        -7.95477799e-02,  1.00044663e+00,  3.06662667e-01,\n",
       "         2.51412171e-01,  2.92340372e-01, -2.76238054e-02,\n",
       "         1.77097664e-01],\n",
       "       [ 7.12572266e-03,  3.33606497e-02,  1.28225854e-02,\n",
       "         3.33200421e-01, -2.05725573e-01, -1.91135083e-01,\n",
       "         1.28966919e-04,  4.72824346e-01,  2.15929184e-01,\n",
       "         3.73935789e-01,  1.99666915e-01,  2.59706351e-01,\n",
       "         1.81102006e-01, -1.83329706e-01,  1.38745981e-01,\n",
       "         3.22465454e-01,  2.14886104e-01, -2.78236747e-01,\n",
       "         8.03516878e-02,  3.06662667e-01,  1.00044663e+00,\n",
       "         4.03257702e-01,  2.21631947e-01, -9.42276414e-03,\n",
       "         3.26779828e-01],\n",
       "       [-5.93296539e-03, -1.08496219e-02, -1.71048114e-02,\n",
       "         2.73566452e-01, -1.72415548e-01, -1.40152113e-01,\n",
       "        -1.92913773e-02,  3.54291365e-01,  1.94835126e-01,\n",
       "         3.09899074e-01,  2.60878562e-01,  2.41925821e-01,\n",
       "         1.66470418e-01, -1.23299478e-01,  1.55212119e-01,\n",
       "         3.08234174e-01,  1.83330566e-01, -1.92587518e-01,\n",
       "         9.47928511e-02,  2.51412171e-01,  4.03257702e-01,\n",
       "         1.00044663e+00,  1.75392879e-01, -2.55100041e-02,\n",
       "         2.94112827e-01],\n",
       "       [-6.54220470e-03,  2.13783967e-02,  1.84250307e-02,\n",
       "         8.71070073e-02, -8.17528789e-02, -1.56118298e-02,\n",
       "        -1.78212325e-03,  2.05999028e-01, -9.77758863e-03,\n",
       "         4.30526456e-02,  2.57785546e-03,  9.98969163e-03,\n",
       "         5.00126143e-02, -3.77115939e-02,  3.42030047e-02,\n",
       "         9.98969559e-02,  8.52274790e-02, -7.19961588e-03,\n",
       "         7.20520853e-02,  2.92340372e-01,  2.21631947e-01,\n",
       "         1.75392879e-01,  1.00044663e+00, -1.13393827e-02,\n",
       "         1.69368272e-01],\n",
       "       [-3.01410006e-02, -5.05625191e-02, -5.72028181e-03,\n",
       "        -2.70889795e-02,  4.02244659e-02,  3.13910788e-03,\n",
       "         1.32369878e-02, -3.90245630e-02, -5.16859525e-03,\n",
       "        -2.34935417e-02, -2.09622015e-02, -2.24950018e-02,\n",
       "        -3.08750100e-02,  4.19836440e-04, -1.63174795e-02,\n",
       "        -2.04622659e-02, -1.65316096e-02,  1.97773363e-02,\n",
       "         8.41915612e-03, -2.76238054e-02, -9.42276414e-03,\n",
       "        -2.55100041e-02, -1.13393827e-02,  1.00044663e+00,\n",
       "        -1.70772633e-03],\n",
       "       [ 2.13347389e-02,  9.08600553e-02, -1.14083465e-02,\n",
       "         1.32102339e-01, -8.00435160e-02, -1.54514570e-01,\n",
       "        -1.98525274e-01,  2.47364930e-01,  1.25344766e-01,\n",
       "         2.36440674e-01,  1.11380518e-01,  1.17424322e-01,\n",
       "         1.39912598e-01,  2.23931296e-03,  1.48796012e-01,\n",
       "         2.20909039e-01,  3.93810243e-02, -3.98837924e-03,\n",
       "         2.54371842e-01,  1.77097664e-01,  3.26779828e-01,\n",
       "         2.94112827e-01,  1.69368272e-01, -1.70772633e-03,\n",
       "         1.00044663e+00]])"
      ]
     },
     "execution_count": 15,
     "metadata": {},
     "output_type": "execute_result"
    }
   ],
   "source": [
    "cov_matrix=np.cov(scaled_features.T)\n",
    "cov_matrix\n"
   ]
  },
  {
   "cell_type": "code",
   "execution_count": 16,
   "id": "133bb13f",
   "metadata": {},
   "outputs": [
    {
     "name": "stdout",
     "output_type": "stream",
     "text": [
      "eigein values:\n",
      " [6.51476802 2.07939305 1.91658192 1.45165434 1.17296317 1.03264758\n",
      " 1.00389395 0.9987328  0.94630565 0.83316649 0.19257031 0.24391671\n",
      " 0.74630668 0.30249434 0.31130926 0.69361969 0.37687205 0.40745821\n",
      " 0.43217002 0.46263772 0.51716532 0.53154623 0.63692524 0.60971165\n",
      " 0.58563627]\n",
      "\n",
      "\n",
      "eigein vector:\n",
      " [[-5.73312639e-02  3.44311005e-01 -9.68725498e-02  2.79733394e-01\n",
      "  -2.66749578e-01 -2.95346053e-01  6.34726216e-02 -3.98547230e-02\n",
      "   2.59193926e-01 -3.79587550e-01 -1.47379077e-02  2.86937632e-02\n",
      "  -2.72108425e-02  3.27171271e-02  7.15477505e-04  3.71884811e-01\n",
      "  -1.05287640e-01  1.13462800e-01  8.15185246e-02  1.09891921e-01\n",
      "   4.47664726e-01 -3.82977801e-02 -1.70091130e-01  1.69220300e-02\n",
      "  -1.84179083e-02]\n",
      " [ 1.97030389e-02 -2.39865441e-01 -1.23749309e-01 -2.64482612e-01\n",
      "   4.68290971e-01 -2.13228998e-01  2.09508806e-01 -1.65814468e-01\n",
      "   3.92533769e-01 -2.29735751e-01  7.06317861e-02 -4.67397787e-02\n",
      "  -4.59326647e-02 -4.27313422e-02 -8.42967005e-02 -3.02276344e-01\n",
      "  -5.69434054e-03 -3.68454334e-03  1.66796857e-01  1.12759465e-01\n",
      "   6.80889508e-02 -2.88648606e-01 -2.68003958e-01  5.70008087e-02\n",
      "   2.45222999e-02]\n",
      " [ 1.03452912e-02 -5.08574326e-03  2.34388850e-02 -1.33344184e-01\n",
      "   8.69530196e-03  3.22417463e-01 -7.71820739e-01 -3.92155051e-01\n",
      "   3.19637624e-01 -5.10324243e-02  1.24885098e-03  1.36522448e-02\n",
      "  -5.39263475e-02 -2.21641254e-03  8.22229975e-03  1.04094571e-01\n",
      "   3.07092937e-02 -5.14347568e-05 -2.20968115e-02  2.59925082e-02\n",
      "   4.51683995e-02 -6.20750754e-05 -7.04857471e-02 -5.39083369e-03\n",
      "  -9.71840104e-03]\n",
      " [ 2.89515944e-01 -7.78059792e-02  3.10003043e-02 -1.44232474e-01\n",
      "   7.26419021e-02 -4.19996443e-02  4.80199089e-02  3.05499613e-02\n",
      "   8.24094543e-02  2.94798720e-02  8.27677601e-02  2.11897594e-02\n",
      "   1.97465207e-01 -5.37792910e-01 -4.26006641e-02  2.72232953e-01\n",
      "  -5.14781044e-02  2.16223221e-01 -2.21602532e-01 -5.77322634e-01\n",
      "   1.09854535e-01 -2.51533382e-02 -4.00660856e-02  3.82085409e-02\n",
      "   1.06798926e-01]\n",
      " [-2.55328706e-01  8.34531297e-02 -9.57439788e-02  1.81187068e-01\n",
      "  -8.24062881e-02 -5.34591858e-02  4.03745551e-02 -4.21436773e-02\n",
      "   3.16906702e-01  1.91227027e-01  4.15172371e-02  5.20460997e-02\n",
      "   3.40786403e-01  3.62066763e-01  2.96235457e-01 -2.43545325e-02\n",
      "  -2.82619363e-02 -1.20682582e-01 -1.97297879e-01 -3.31293869e-01\n",
      "  -2.56429361e-01 -2.96770689e-01 -1.19862287e-01  7.08038519e-02\n",
      "   2.41933379e-01]\n",
      " [-5.70232459e-02 -5.19962255e-01  1.16155262e-01 -4.41762382e-02\n",
      "   4.49306235e-02  1.13800826e-01 -8.33895067e-03  3.58464280e-02\n",
      "  -2.15137855e-01  1.91142163e-01  6.02059483e-02 -9.09261673e-02\n",
      "   1.81353016e-01  2.32302969e-01  2.55422322e-01  2.26909682e-01\n",
      "  -2.05591366e-01  2.06245077e-01  6.15274493e-02  1.81678119e-01\n",
      "   4.53734466e-01 -7.59042310e-02 -1.19244322e-01 -5.17040261e-02\n",
      "   2.14941121e-01]\n",
      " [ 9.03702563e-04 -1.66858119e-02  1.11769198e-01 -1.62466495e-01\n",
      "  -4.12830355e-01  2.56574278e-01  4.66572133e-01 -5.94381515e-01\n",
      "   1.33686991e-01  1.18441181e-01  5.28508340e-03  1.21315418e-02\n",
      "  -6.24877491e-02 -2.34946811e-02 -2.01190729e-02 -1.81505621e-01\n",
      "  -2.55260423e-02 -6.20971003e-02 -1.13541624e-01 -2.47781978e-02\n",
      "   2.04550087e-01  8.73685726e-02  1.17600111e-01 -4.89479572e-02\n",
      "   6.70629510e-04]\n",
      " [ 3.07065732e-01 -2.03482538e-01 -1.63925568e-01 -2.81133277e-02\n",
      "  -4.30911770e-02 -5.54430312e-02  6.59350594e-02 -3.21731589e-02\n",
      "   9.90529573e-02 -1.09796937e-01 -6.80193210e-01  2.41145950e-01\n",
      "  -1.38638293e-01 -1.07441771e-02  4.14367889e-01  8.91587561e-02\n",
      "  -1.05708732e-01  5.33206347e-02 -9.51148162e-02  9.99762900e-02\n",
      "  -2.07186529e-01  9.26877464e-02 -6.81319896e-03 -7.37695034e-04\n",
      "   6.27638390e-03]\n",
      " [ 2.66848576e-01  1.42931201e-01  1.82956324e-01  1.30196285e-01\n",
      "  -2.26980704e-02 -6.97905473e-03 -3.70726381e-02  5.44095198e-02\n",
      "   9.04014456e-03  3.52409089e-03 -2.08082830e-02  9.95715448e-02\n",
      "   6.70476279e-02  3.56714225e-02 -1.03856404e-01 -2.46097970e-01\n",
      "   3.91622988e-01  4.02479261e-01 -4.09783563e-01  3.02535609e-01\n",
      "   4.74298915e-02 -2.37261161e-01 -3.71812075e-02 -2.37519135e-01\n",
      "   2.72637482e-01]\n",
      " [ 3.12515951e-01  1.26588362e-01  2.74807440e-02 -1.03075302e-02\n",
      "   6.08406240e-02 -4.58516462e-02  4.59775876e-02 -3.84141269e-02\n",
      "   2.10958892e-01  4.01084193e-02 -2.26887986e-02 -7.43477257e-01\n",
      "   1.92261519e-01  1.85470259e-01  1.65014756e-01  3.33642157e-02\n",
      "   2.63497248e-02  2.26682151e-01  9.71761444e-02  2.25100346e-02\n",
      "  -1.04964122e-01  1.41104901e-01  2.21401810e-01 -2.41921877e-02\n",
      "  -1.85474518e-01]\n",
      " [ 2.76507204e-01  1.55849868e-01  1.83411271e-01  1.13562169e-01\n",
      "  -4.95813129e-02  1.71155011e-02 -9.18021032e-02  2.00135454e-02\n",
      "  -2.06045931e-02  8.15589087e-02 -1.20357736e-02  3.54251622e-02\n",
      "   9.76141375e-02 -2.09001857e-02 -1.81442163e-01 -2.34147419e-01\n",
      "  -7.97836657e-01 -3.63307618e-02 -5.76184410e-03  7.58788055e-02\n",
      "  -8.54655486e-02 -2.08316398e-01 -9.46915461e-02 -1.59983247e-01\n",
      "  -7.76919243e-02]\n",
      " [ 2.68776042e-01  1.29724104e-01  1.58686558e-01  1.19768314e-01\n",
      "  -8.98146972e-02 -1.42093404e-03 -5.55984304e-02  2.32618961e-02\n",
      "   1.01054533e-03  9.87000903e-02 -5.33044409e-02  1.43675591e-02\n",
      "   4.23215849e-02 -1.41437454e-01  2.07194982e-01 -1.96996180e-01\n",
      "   2.02839393e-01 -2.48605684e-01  6.16914387e-01 -1.44404744e-01\n",
      "   1.06171543e-01  7.40236523e-02 -1.68863679e-01 -2.11154637e-01\n",
      "   3.86190318e-01]\n",
      " [ 2.20895436e-01 -5.88432075e-02  1.00598715e-01  3.15531458e-01\n",
      "  -5.64872192e-02  1.10672967e-01 -3.25597196e-02 -1.25046992e-01\n",
      "  -2.26496867e-01 -6.94410335e-02  5.15620168e-03 -1.01738765e-01\n",
      "  -1.63578338e-01 -8.07734277e-02  1.40564167e-01 -7.15118022e-02\n",
      "   1.01669801e-01 -5.32823273e-02  5.56698504e-02 -4.62869097e-02\n",
      "   6.62263637e-02 -4.97635664e-01  8.84686977e-02  6.23163242e-01\n",
      "  -1.21111123e-01]\n",
      " [-5.56067228e-02 -4.29784233e-01  3.94284885e-02  3.85492103e-01\n",
      "  -1.52690163e-01 -9.01072300e-02 -2.14898998e-02 -8.03103649e-03\n",
      "   2.78022809e-01  1.43756503e-01 -1.87613307e-01  2.03513684e-03\n",
      "   3.91111214e-01 -2.33892589e-01 -3.96468892e-01  7.47103943e-02\n",
      "   1.23368881e-01 -1.42069534e-01  1.10379219e-01  2.08862811e-01\n",
      "  -8.05301389e-02  1.17063472e-02  1.38054870e-01  1.93525838e-02\n",
      "  -9.59144208e-02]\n",
      " [ 2.10517991e-01 -3.32476579e-01  3.56559488e-02  2.77822440e-01\n",
      "  -8.15775842e-02 -5.01194757e-02 -2.46384758e-02 -2.43154720e-04\n",
      "   5.66546884e-02 -1.04540893e-01  5.23431369e-02 -2.26281209e-02\n",
      "  -3.71446214e-01  4.39667210e-01 -3.43831088e-01 -8.15854739e-02\n",
      "  -3.84534375e-03  1.38827388e-01 -1.52505346e-02 -3.98847345e-01\n",
      "  -4.18837839e-02  2.57693279e-01 -1.71819891e-01  1.51708610e-02\n",
      "   8.27828826e-02]\n",
      " [ 3.18833440e-01 -1.76966086e-02  1.85919652e-02  3.28326615e-02\n",
      "   8.79203083e-02  2.40743814e-02  7.86204814e-02 -8.44572513e-02\n",
      "   8.72937931e-02 -1.55079777e-02  4.33957641e-01  5.55025112e-01\n",
      "   2.15008414e-01  2.05769549e-01  1.53221418e-01  1.07536429e-01\n",
      "   6.31732861e-02  1.66337031e-01  2.39073998e-01  5.16851994e-02\n",
      "  -1.03805384e-01  7.36517729e-02  1.98552771e-01  1.04119185e-03\n",
      "  -3.16275508e-01]\n",
      " [ 2.83000535e-01 -1.84732158e-01  1.25740088e-01 -6.05144637e-03\n",
      "  -1.08546861e-01 -1.00546076e-01  1.97624233e-03  8.79555093e-02\n",
      "   4.31710630e-02 -2.18172929e-01  3.72084919e-01 -1.33770225e-01\n",
      "  -3.61609956e-02 -4.23957582e-02  1.97929727e-01  1.24411921e-01\n",
      "   3.41864236e-02 -5.88445621e-01 -3.82263115e-01  2.03513414e-01\n",
      "  -6.83088899e-02  1.06807955e-01 -1.37597951e-01 -7.71594112e-02\n",
      "   2.82949394e-02]\n",
      " [-2.48158241e-01 -1.74610688e-01 -1.60879471e-01  3.30992518e-01\n",
      "  -1.47988083e-01 -2.15651499e-02 -5.08556172e-02 -2.94701966e-02\n",
      "   7.66613731e-02 -8.99039770e-03  3.29828249e-01 -8.32991839e-02\n",
      "  -2.18822621e-01 -4.01204874e-01  3.63734156e-01 -2.55079157e-01\n",
      "  -1.26473530e-01  3.53097109e-01  2.00368612e-02  7.98119629e-02\n",
      "  -1.94334053e-01  1.37096741e-01 -5.76023850e-02 -1.06721310e-01\n",
      "  -7.54612658e-03]\n",
      " [ 2.03268202e-02  5.78681650e-02 -2.11922922e-01  3.66409687e-01\n",
      "   3.77010495e-01  3.10929892e-01  1.94402467e-01 -3.65634989e-01\n",
      "  -2.53042094e-01 -1.40649068e-01 -6.28400051e-03 -9.33918759e-02\n",
      "   5.17451571e-03 -3.40895221e-02 -8.58175659e-02  3.29777931e-01\n",
      "   1.22145209e-02 -7.41549107e-02  1.23204689e-02  2.55587457e-03\n",
      "  -1.91192354e-01 -1.13017504e-01 -8.52267729e-02 -3.55867348e-01\n",
      "   8.86285382e-02]\n",
      " [ 9.72721335e-02 -1.75860779e-01 -3.82024627e-01 -2.11272645e-01\n",
      "  -3.67426626e-01 -6.80086503e-02 -8.00839772e-02  1.25987632e-01\n",
      "  -1.59923821e-02 -2.69179926e-03  8.38142592e-02 -6.81904045e-02\n",
      "  -1.90005462e-01  4.94254272e-02 -6.61398209e-02  8.82997873e-02\n",
      "   5.86090847e-02 -3.19200915e-02  1.36907693e-01 -1.03918073e-01\n",
      "  -2.30921914e-02 -5.12744602e-01  2.73685152e-01 -4.09711972e-01\n",
      "  -6.52684130e-02]\n",
      " [ 1.93463785e-01  1.00448424e-01 -3.74177244e-01 -1.10254292e-01\n",
      "  -7.14038660e-02  4.23957161e-02  4.69413810e-02 -3.27921497e-03\n",
      "   7.40609091e-02  2.01860350e-01  1.86892960e-01 -3.17887887e-03\n",
      "  -8.90079886e-02 -1.42911694e-02 -2.02263484e-01  1.78933539e-01\n",
      "  -1.41218466e-01  5.38455936e-02  7.84501441e-02  2.97389665e-01\n",
      "  -1.83888869e-01  1.07796236e-01  9.56306406e-02  3.77035875e-01\n",
      "   5.61077139e-01]\n",
      " [ 1.71836471e-01  8.71396983e-02 -3.29061955e-01  3.87397469e-03\n",
      "  -8.18957506e-02  3.92551145e-02  2.59421202e-02  2.62995458e-02\n",
      "  -3.18028025e-02  5.17614636e-01  5.05814140e-04 -2.77695483e-02\n",
      "  -3.07533025e-02 -1.73034959e-02 -3.04912694e-02  2.62143552e-02\n",
      "   1.56062532e-01 -1.22037036e-02 -4.85455108e-02  7.20314817e-02\n",
      "   7.57284478e-02  1.23946876e-02 -6.12737510e-01  2.65596762e-02\n",
      "  -3.97880662e-01]\n",
      " [ 5.89778309e-02 -6.14006748e-02 -3.78497674e-01 -1.02672446e-01\n",
      "  -2.46802484e-01  1.36459271e-01 -8.46079857e-02 -3.38646594e-02\n",
      "  -3.12311778e-01 -4.69989194e-01 -1.06218257e-02 -4.13029080e-02\n",
      "   5.19065132e-01  4.13301453e-02 -5.51266472e-02 -3.03542157e-01\n",
      "   1.30493101e-02  5.26611931e-02  6.61354031e-03 -4.76422733e-02\n",
      "  -3.43265375e-03  1.33218455e-01 -1.73189833e-01  1.06890602e-01\n",
      "   1.06973749e-02]\n",
      " [-1.56178225e-02  1.22888344e-02  2.18116296e-02  2.80157867e-02\n",
      "  -2.54654170e-02  7.18724141e-01  2.04714407e-01  5.16354838e-01\n",
      "   3.56824171e-01 -1.69370394e-01 -1.43429986e-02 -5.57150574e-03\n",
      "  -5.22850780e-02 -1.78224806e-02 -5.23965456e-03  1.31099621e-02\n",
      "  -7.39429133e-03  8.07932418e-03  4.70037351e-02  1.26920864e-02\n",
      "   4.26490748e-02 -4.93221060e-02 -6.20011954e-02  2.51073805e-02\n",
      "  -4.34446821e-02]\n",
      " [ 1.09580978e-01  4.15805476e-02 -4.25269263e-01  2.61802230e-01\n",
      "   2.88584838e-01  2.38303855e-02 -9.09462911e-02  6.29495634e-02\n",
      "   8.69172398e-02  1.41719175e-01 -1.17636853e-02  5.74823414e-02\n",
      "  -6.55791265e-03  1.62593547e-02  7.26332639e-02 -2.93386464e-01\n",
      "  -6.17466844e-02 -2.16209126e-01 -2.10823934e-01 -8.39376934e-02\n",
      "   4.98306242e-01  1.48322921e-01  3.79003250e-01 -4.47997755e-02\n",
      "   5.91909727e-03]]\n"
     ]
    }
   ],
   "source": [
    "eig_vals,eig_vectors=np.linalg.eig(cov_matrix)\n",
    "print('eigein values:' '\\n',eig_vals)\n",
    "print('\\n')\n",
    "print('eigein vector:' '\\n',eig_vectors)"
   ]
  },
  {
   "cell_type": "code",
   "execution_count": 17,
   "id": "b37186a3",
   "metadata": {},
   "outputs": [
    {
     "name": "stdout",
     "output_type": "stream",
     "text": [
      "Explained Variance:  [26.058606521982526, 8.31742360930892, 7.666190708683078, 5.806513610549157, 4.6917688677880545, 4.130516510408193, 4.01550404895853, 3.9948598266977933, 3.7851549693895272, 3.33260641342707, 2.9851733949329415, 2.7744292102345542, 2.5476554383863084, 2.438803016753833, 2.342503225222758, 2.1261469244637197, 2.068624305776465, 1.8505178244096592, 1.728649177595861, 1.6298037076615917, 1.5074612527604856, 1.2452147917958738, 1.2099557451551615, 0.9756494143914671, 0.7702674832664621]\n",
      "Cummulative Variance Explained:  [ 26.05860652  34.37603013  42.04222084  47.84873445  52.54050332\n",
      "  56.67101983  60.68652388  64.6813837   68.46653867  71.79914509\n",
      "  74.78431848  77.55874769  80.10640313  82.54520615  84.88770937\n",
      "  87.0138563   89.0824806   90.93299843  92.6616476   94.29145131\n",
      "  95.79891257  97.04412736  98.2540831   99.22973252 100.        ]\n"
     ]
    }
   ],
   "source": [
    "total=sum(eig_vals)\n",
    "var_exp=[(i/total)*100 for i in sorted (eig_vals,reverse=True)]\n",
    "cum_var_exp=np.cumsum(var_exp)\n",
    "print('Explained Variance: ',var_exp)\n",
    "print('Cummulative Variance Explained: ',cum_var_exp)"
   ]
  },
  {
   "cell_type": "code",
   "execution_count": 22,
   "id": "5a43786b",
   "metadata": {},
   "outputs": [
    {
     "data": {
      "image/png": "[encoded data removed]",
      "text/plain": [
       "<Figure size 432x288 with 1 Axes>"
      ]
     },
     "metadata": {
      "needs_background": "light"
     },
     "output_type": "display_data"
    }
   ],
   "source": [
    "plt.bar(range(0,len(var_exp)),var_exp,align='center',alpha=0.5,color='green',label='Explained Variance')\n",
    "plt.step(range(0,len(cum_var_exp)),cum_var_exp,where='mid',color='blue',label='Cummulative Explained Variance')\n",
    "plt.xlabel('Principal Component')\n",
    "plt.ylabel('Explained Variance ratio')\n",
    "plt.title('Scree plot')\n",
    "plt.legend(loc='best')\n",
    "plt.tight_layout()\n",
    "plt.show()"
   ]
  },
  {
   "cell_type": "markdown",
   "id": "ccdd61f6",
   "metadata": {},
   "source": [
    "# 16. Apply K-means clustering and segment the data (Use PCA transformed data for clustering)"
   ]
  },
  {
   "cell_type": "code",
   "execution_count": 24,
   "id": "7aeaa781",
   "metadata": {},
   "outputs": [
    {
     "data": {
      "text/html": [
       "<div>\n",
       "<style scoped>\n",
       "    .dataframe tbody tr th:only-of-type {\n",
       "        vertical-align: middle;\n",
       "    }\n",
       "\n",
       "    .dataframe tbody tr th {\n",
       "        vertical-align: top;\n",
       "    }\n",
       "\n",
       "    .dataframe thead th {\n",
       "        text-align: right;\n",
       "    }\n",
       "</style>\n",
       "<table border=\"1\" class=\"dataframe\">\n",
       "  <thead>\n",
       "    <tr style=\"text-align: right;\">\n",
       "      <th></th>\n",
       "      <th>PC1</th>\n",
       "      <th>PC2</th>\n",
       "      <th>PC3</th>\n",
       "      <th>PC4</th>\n",
       "      <th>PC5</th>\n",
       "      <th>PC6</th>\n",
       "      <th>PC7</th>\n",
       "      <th>PC8</th>\n",
       "    </tr>\n",
       "  </thead>\n",
       "  <tbody>\n",
       "    <tr>\n",
       "      <th>0</th>\n",
       "      <td>3.762554</td>\n",
       "      <td>-0.298068</td>\n",
       "      <td>-0.408819</td>\n",
       "      <td>1.935039</td>\n",
       "      <td>-0.510390</td>\n",
       "      <td>0.371647</td>\n",
       "      <td>-0.629800</td>\n",
       "      <td>-0.346300</td>\n",
       "    </tr>\n",
       "    <tr>\n",
       "      <th>1</th>\n",
       "      <td>-2.374811</td>\n",
       "      <td>0.186878</td>\n",
       "      <td>-0.236034</td>\n",
       "      <td>-1.015781</td>\n",
       "      <td>-0.565237</td>\n",
       "      <td>0.461549</td>\n",
       "      <td>-0.496444</td>\n",
       "      <td>0.230644</td>\n",
       "    </tr>\n",
       "    <tr>\n",
       "      <th>2</th>\n",
       "      <td>1.621652</td>\n",
       "      <td>-0.172977</td>\n",
       "      <td>-1.114742</td>\n",
       "      <td>-0.236553</td>\n",
       "      <td>-0.118784</td>\n",
       "      <td>-0.068338</td>\n",
       "      <td>-1.489770</td>\n",
       "      <td>0.280245</td>\n",
       "    </tr>\n",
       "    <tr>\n",
       "      <th>3</th>\n",
       "      <td>-2.503633</td>\n",
       "      <td>-1.443086</td>\n",
       "      <td>0.203120</td>\n",
       "      <td>0.070066</td>\n",
       "      <td>0.257939</td>\n",
       "      <td>-0.359067</td>\n",
       "      <td>-1.334570</td>\n",
       "      <td>-0.020934</td>\n",
       "    </tr>\n",
       "    <tr>\n",
       "      <th>4</th>\n",
       "      <td>-0.436426</td>\n",
       "      <td>0.019308</td>\n",
       "      <td>-0.465952</td>\n",
       "      <td>0.319934</td>\n",
       "      <td>0.606440</td>\n",
       "      <td>-0.977681</td>\n",
       "      <td>1.608603</td>\n",
       "      <td>-0.873978</td>\n",
       "    </tr>\n",
       "  </tbody>\n",
       "</table>\n",
       "</div>"
      ],
      "text/plain": [
       "        PC1       PC2       PC3       PC4       PC5       PC6       PC7  \\\n",
       "0  3.762554 -0.298068 -0.408819  1.935039 -0.510390  0.371647 -0.629800   \n",
       "1 -2.374811  0.186878 -0.236034 -1.015781 -0.565237  0.461549 -0.496444   \n",
       "2  1.621652 -0.172977 -1.114742 -0.236553 -0.118784 -0.068338 -1.489770   \n",
       "3 -2.503633 -1.443086  0.203120  0.070066  0.257939 -0.359067 -1.334570   \n",
       "4 -0.436426  0.019308 -0.465952  0.319934  0.606440 -0.977681  1.608603   \n",
       "\n",
       "        PC8  \n",
       "0 -0.346300  \n",
       "1  0.230644  \n",
       "2  0.280245  \n",
       "3 -0.020934  \n",
       "4 -0.873978  "
      ]
     },
     "execution_count": 24,
     "metadata": {},
     "output_type": "execute_result"
    }
   ],
   "source": [
    "#using the dimension obtained from PCA to apply Clustering\n",
    "from sklearn.decomposition import PCA\n",
    "pca=PCA(n_components=8)\n",
    "pca_df=pd.DataFrame(pca.fit_transform(scaled_features_df),columns=['PC1','PC2','PC3','PC4','PC5','PC6','PC7','PC8'])\n",
    "pca_df.head()"
   ]
  },
  {
   "cell_type": "code",
   "execution_count": 26,
   "id": "a9701907",
   "metadata": {},
   "outputs": [],
   "source": [
    "#finding optimal K value by KMeans clustering using Elbow plot\n",
    "from sklearn.cluster import KMeans\n",
    "cluster_errors=[]\n",
    "cluster_range=range(2,15)\n",
    "for num_clusters in cluster_range:\n",
    "    clusters=KMeans(num_clusters,random_state=100)\n",
    "    clusters.fit(pca_df)\n",
    "    cluster_errors.append(clusters.inertia_)"
   ]
  },
  {
   "cell_type": "code",
   "execution_count": 27,
   "id": "9b7f6944",
   "metadata": {},
   "outputs": [
    {
     "data": {
      "image/png": "[encoded data removed]",
      "text/plain": [
       "<Figure size 1080x360 with 1 Axes>"
      ]
     },
     "metadata": {
      "needs_background": "light"
     },
     "output_type": "display_data"
    }
   ],
   "source": [
    "cluster_df=pd.DataFrame({'num_clusters':cluster_range,'cluster_errors':cluster_errors})\n",
    "\n",
    "#Elbow Plot\n",
    "plt.figure(figsize=[15,5])\n",
    "plt.plot(cluster_df['num_clusters'],cluster_df['cluster_errors'],marker='o',color='b')\n",
    "plt.show()"
   ]
  },
  {
   "cell_type": "raw",
   "id": "9bd6278d",
   "metadata": {},
   "source": [
    "from the above plot we can see at cluster k=3,the inertia is significantly decrease.Hence we can select our optimal clusters as K=3"
   ]
  },
  {
   "cell_type": "code",
   "execution_count": 29,
   "id": "5c9dfc5f",
   "metadata": {},
   "outputs": [
    {
     "data": {
      "text/plain": [
       "KMeans(n_clusters=3, random_state=100)"
      ]
     },
     "execution_count": 29,
     "metadata": {},
     "output_type": "execute_result"
    }
   ],
   "source": [
    "kmeans=KMeans(n_clusters=3,random_state=100)\n",
    "kmeans.fit(pca_df)"
   ]
  },
  {
   "cell_type": "code",
   "execution_count": 31,
   "id": "76c5d8c8",
   "metadata": {},
   "outputs": [
    {
     "data": {
      "text/html": [
       "<div>\n",
       "<style scoped>\n",
       "    .dataframe tbody tr th:only-of-type {\n",
       "        vertical-align: middle;\n",
       "    }\n",
       "\n",
       "    .dataframe tbody tr th {\n",
       "        vertical-align: top;\n",
       "    }\n",
       "\n",
       "    .dataframe thead th {\n",
       "        text-align: right;\n",
       "    }\n",
       "</style>\n",
       "<table border=\"1\" class=\"dataframe\">\n",
       "  <thead>\n",
       "    <tr style=\"text-align: right;\">\n",
       "      <th></th>\n",
       "      <th>PC1</th>\n",
       "      <th>PC2</th>\n",
       "      <th>PC3</th>\n",
       "      <th>PC4</th>\n",
       "      <th>PC5</th>\n",
       "      <th>PC6</th>\n",
       "      <th>PC7</th>\n",
       "      <th>PC8</th>\n",
       "      <th>Label</th>\n",
       "    </tr>\n",
       "  </thead>\n",
       "  <tbody>\n",
       "    <tr>\n",
       "      <th>0</th>\n",
       "      <td>3.762554</td>\n",
       "      <td>-0.298068</td>\n",
       "      <td>-0.408819</td>\n",
       "      <td>1.935039</td>\n",
       "      <td>-0.510390</td>\n",
       "      <td>0.371647</td>\n",
       "      <td>-0.629800</td>\n",
       "      <td>-0.346300</td>\n",
       "      <td>2</td>\n",
       "    </tr>\n",
       "    <tr>\n",
       "      <th>1</th>\n",
       "      <td>-2.374811</td>\n",
       "      <td>0.186878</td>\n",
       "      <td>-0.236034</td>\n",
       "      <td>-1.015781</td>\n",
       "      <td>-0.565237</td>\n",
       "      <td>0.461549</td>\n",
       "      <td>-0.496444</td>\n",
       "      <td>0.230644</td>\n",
       "      <td>1</td>\n",
       "    </tr>\n",
       "    <tr>\n",
       "      <th>2</th>\n",
       "      <td>1.621652</td>\n",
       "      <td>-0.172977</td>\n",
       "      <td>-1.114742</td>\n",
       "      <td>-0.236553</td>\n",
       "      <td>-0.118784</td>\n",
       "      <td>-0.068338</td>\n",
       "      <td>-1.489770</td>\n",
       "      <td>0.280245</td>\n",
       "      <td>0</td>\n",
       "    </tr>\n",
       "    <tr>\n",
       "      <th>3</th>\n",
       "      <td>-2.503633</td>\n",
       "      <td>-1.443086</td>\n",
       "      <td>0.203120</td>\n",
       "      <td>0.070066</td>\n",
       "      <td>0.257939</td>\n",
       "      <td>-0.359067</td>\n",
       "      <td>-1.334570</td>\n",
       "      <td>-0.020934</td>\n",
       "      <td>1</td>\n",
       "    </tr>\n",
       "    <tr>\n",
       "      <th>4</th>\n",
       "      <td>-0.436426</td>\n",
       "      <td>0.019308</td>\n",
       "      <td>-0.465952</td>\n",
       "      <td>0.319934</td>\n",
       "      <td>0.606440</td>\n",
       "      <td>-0.977681</td>\n",
       "      <td>1.608603</td>\n",
       "      <td>-0.873978</td>\n",
       "      <td>0</td>\n",
       "    </tr>\n",
       "  </tbody>\n",
       "</table>\n",
       "</div>"
      ],
      "text/plain": [
       "        PC1       PC2       PC3       PC4       PC5       PC6       PC7  \\\n",
       "0  3.762554 -0.298068 -0.408819  1.935039 -0.510390  0.371647 -0.629800   \n",
       "1 -2.374811  0.186878 -0.236034 -1.015781 -0.565237  0.461549 -0.496444   \n",
       "2  1.621652 -0.172977 -1.114742 -0.236553 -0.118784 -0.068338 -1.489770   \n",
       "3 -2.503633 -1.443086  0.203120  0.070066  0.257939 -0.359067 -1.334570   \n",
       "4 -0.436426  0.019308 -0.465952  0.319934  0.606440 -0.977681  1.608603   \n",
       "\n",
       "        PC8  Label  \n",
       "0 -0.346300      2  \n",
       "1  0.230644      1  \n",
       "2  0.280245      0  \n",
       "3 -0.020934      1  \n",
       "4 -0.873978      0  "
      ]
     },
     "execution_count": 31,
     "metadata": {},
     "output_type": "execute_result"
    }
   ],
   "source": [
    "#Creating a dataframe of label\n",
    "label=pd.DataFrame(kmeans.labels_,columns=['Label'])\n",
    "kmeans_df=pca_df.join(label)\n",
    "kmeans_df.head()"
   ]
  },
  {
   "cell_type": "code",
   "execution_count": 32,
   "id": "7526110f",
   "metadata": {},
   "outputs": [
    {
     "name": "stderr",
     "output_type": "stream",
     "text": [
      "C:\\Users\\Rojalin\\anaconda3\\lib\\site-packages\\seaborn\\_decorators.py:36: FutureWarning: Pass the following variables as keyword args: x, y. From version 0.12, the only valid positional argument will be `data`, and passing other arguments without an explicit keyword will result in an error or misinterpretation.\n",
      "  warnings.warn(\n"
     ]
    },
    {
     "data": {
      "image/png": "[encoded data removed]",
      "text/plain": [
       "<Figure size 432x288 with 1 Axes>"
      ]
     },
     "metadata": {
      "needs_background": "light"
     },
     "output_type": "display_data"
    }
   ],
   "source": [
    "#visualizing the clusters formed\n",
    "sns.scatterplot(kmeans_df['PC1'],kmeans_df['PC2'],hue='Label',data=kmeans_df)\n",
    "plt.show()"
   ]
  },
  {
   "cell_type": "markdown",
   "id": "0f336d84",
   "metadata": {},
   "source": [
    "# 17. Apply Agglomerative clustering and segment the data (Use Original data for clustering), and perform cluster analysis by doing bivariate analysis between the cluster label and different features and write your observations."
   ]
  },
  {
   "cell_type": "code",
   "execution_count": null,
   "id": "3cb4fb7b",
   "metadata": {},
   "outputs": [],
   "source": [
    "#Agglomerative clustering using Original Data\n",
    "import scipy.cluster.hierarchy as shc\n",
    "plt.figure(figsize=[18,5])\n",
    "merg =shc.linkage(scaled_features,method='ward')\n",
    "Dendrogram=shc.dendrogram(merg,leaf_rotation=90,)\n",
    "#plt.xlabel('Datapoints')\n",
    "#plt.ylabel('Euclidean Distance')\n",
    "#plt.show()"
   ]
  },
  {
   "cell_type": "code",
   "execution_count": 33,
   "id": "265f6f88",
   "metadata": {},
   "outputs": [],
   "source": [
    "\n",
    "from sklearn.cluster import AgglomerativeClustering"
   ]
  },
  {
   "cell_type": "code",
   "execution_count": 36,
   "id": "99b80c3b",
   "metadata": {},
   "outputs": [
    {
     "name": "stdout",
     "output_type": "stream",
     "text": [
      "2 0.2543580887043282\n",
      "3 0.12875016203768658\n",
      "4 0.14099968907083946\n",
      "5 0.15229877242511125\n",
      "6 0.16144355862857382\n",
      "7 0.1765218918067559\n",
      "8 0.18199013507587605\n",
      "9 0.18122216417217046\n",
      "10 0.10268622646929246\n",
      "11 0.10196747169007117\n",
      "12 0.10432540597287246\n",
      "13 0.10834015369043475\n",
      "14 0.11296019582389785\n"
     ]
    }
   ],
   "source": [
    "from sklearn.metrics import silhouette_score\n",
    "for i in range(2,15):\n",
    "    hier = AgglomerativeClustering(n_clusters = i)\n",
    "    hier=hier.fit(scaled_features_df)\n",
    "    labels = hier.fit_predict(scaled_features_df)\n",
    "    print(i,silhouette_score(scaled_features_df,labels))"
   ]
  },
  {
   "cell_type": "raw",
   "id": "8a15c980",
   "metadata": {},
   "source": [
    "let choose k=2 as the optimal cluster size and build a Agglomerative clustering using the original Dataset"
   ]
  },
  {
   "cell_type": "code",
   "execution_count": 37,
   "id": "acfff2f7",
   "metadata": {},
   "outputs": [],
   "source": [
    "#Building a hierarical Cluster using the optimal cluster as 2\n",
    "hie_cluster = AgglomerativeClustering(n_clusters = 2,affinity='euclidean',linkage='ward')\n",
    "hie_cluster_model=hie_cluster.fit(scaled_features_df)"
   ]
  },
  {
   "cell_type": "code",
   "execution_count": 38,
   "id": "3c188e9d",
   "metadata": {},
   "outputs": [
    {
     "data": {
      "text/html": [
       "<div>\n",
       "<style scoped>\n",
       "    .dataframe tbody tr th:only-of-type {\n",
       "        vertical-align: middle;\n",
       "    }\n",
       "\n",
       "    .dataframe tbody tr th {\n",
       "        vertical-align: top;\n",
       "    }\n",
       "\n",
       "    .dataframe thead th {\n",
       "        text-align: right;\n",
       "    }\n",
       "</style>\n",
       "<table border=\"1\" class=\"dataframe\">\n",
       "  <thead>\n",
       "    <tr style=\"text-align: right;\">\n",
       "      <th></th>\n",
       "      <th>Labels</th>\n",
       "    </tr>\n",
       "  </thead>\n",
       "  <tbody>\n",
       "    <tr>\n",
       "      <th>0</th>\n",
       "      <td>1</td>\n",
       "    </tr>\n",
       "    <tr>\n",
       "      <th>1</th>\n",
       "      <td>0</td>\n",
       "    </tr>\n",
       "    <tr>\n",
       "      <th>2</th>\n",
       "      <td>1</td>\n",
       "    </tr>\n",
       "    <tr>\n",
       "      <th>3</th>\n",
       "      <td>0</td>\n",
       "    </tr>\n",
       "    <tr>\n",
       "      <th>4</th>\n",
       "      <td>0</td>\n",
       "    </tr>\n",
       "  </tbody>\n",
       "</table>\n",
       "</div>"
      ],
      "text/plain": [
       "   Labels\n",
       "0       1\n",
       "1       0\n",
       "2       1\n",
       "3       0\n",
       "4       0"
      ]
     },
     "execution_count": 38,
     "metadata": {},
     "output_type": "execute_result"
    }
   ],
   "source": [
    "df_label=pd.DataFrame(hie_cluster_model.labels_,columns=['Labels'])\n",
    "df_label.head(5)"
   ]
  },
  {
   "cell_type": "code",
   "execution_count": null,
   "id": "8e715c7a",
   "metadata": {},
   "outputs": [],
   "source": []
  }
 ],
 "metadata": {
  "kernelspec": {
   "display_name": "Python 3",
   "language": "python",
   "name": "python3"
  },
  "language_info": {
   "codemirror_mode": {
    "name": "ipython",
    "version": 3
   },
   "file_extension": ".py",
   "mimetype": "text/x-python",
   "name": "python",
   "nbconvert_exporter": "python",
   "pygments_lexer": "ipython3",
   "version": "3.8.8"
  }
 },
 "nbformat": 4,
 "nbformat_minor": 5
}

{
 "cells": [
  {
   "cell_type": "markdown",
   "id": "faeeaa50",
   "metadata": {},
   "source": [
    "# Import the required libraries and load the data"
   ]
  },
  {
   "cell_type": "code",
   "execution_count": 56,
   "id": "bc3f9df6",
   "metadata": {},
   "outputs": [],
   "source": [
    "# ignore warnings :\n",
    "import warnings\n",
    "warnings.filterwarnings('ignore')\n",
    "import numpy as np\n",
    "import pandas as pd\n",
    "from matplotlib import pyplot as plt\n",
    "import seaborn as sns\n",
    "import sklearn\n",
    "from sklearn.preprocessing import StandardScaler,LabelEncoder"
   ]
  },
  {
   "cell_type": "code",
   "execution_count": 57,
   "id": "b13061e8",
   "metadata": {},
   "outputs": [],
   "source": [
    "ecom=pd.read_csv(r'D:/data/renttherunway.csv')"
   ]
  },
  {
   "cell_type": "code",
   "execution_count": 58,
   "id": "fa180976",
   "metadata": {},
   "outputs": [
    {
     "data": {
      "text/html": [
       "<div>\n",
       "<style scoped>\n",
       "    .dataframe tbody tr th:only-of-type {\n",
       "        vertical-align: middle;\n",
       "    }\n",
       "\n",
       "    .dataframe tbody tr th {\n",
       "        vertical-align: top;\n",
       "    }\n",
       "\n",
       "    .dataframe thead th {\n",
       "        text-align: right;\n",
       "    }\n",
       "</style>\n",
       "<table border=\"1\" class=\"dataframe\">\n",
       "  <thead>\n",
       "    <tr style=\"text-align: right;\">\n",
       "      <th></th>\n",
       "      <th>id</th>\n",
       "      <th>fit</th>\n",
       "      <th>user_id</th>\n",
       "      <th>bust size</th>\n",
       "      <th>item_id</th>\n",
       "      <th>weight</th>\n",
       "      <th>rating</th>\n",
       "      <th>rented for</th>\n",
       "      <th>review_text</th>\n",
       "      <th>body type</th>\n",
       "      <th>review_summary</th>\n",
       "      <th>category</th>\n",
       "      <th>height</th>\n",
       "      <th>size</th>\n",
       "      <th>age</th>\n",
       "      <th>review_date</th>\n",
       "    </tr>\n",
       "  </thead>\n",
       "  <tbody>\n",
       "    <tr>\n",
       "      <th>0</th>\n",
       "      <td>0</td>\n",
       "      <td>fit</td>\n",
       "      <td>420272</td>\n",
       "      <td>34d</td>\n",
       "      <td>2260466</td>\n",
       "      <td>137lbs</td>\n",
       "      <td>10.0</td>\n",
       "      <td>vacation</td>\n",
       "      <td>An adorable romper! Belt and zipper were a lit...</td>\n",
       "      <td>hourglass</td>\n",
       "      <td>So many compliments!</td>\n",
       "      <td>romper</td>\n",
       "      <td>5' 8\"</td>\n",
       "      <td>14</td>\n",
       "      <td>28.0</td>\n",
       "      <td>April 20, 2016</td>\n",
       "    </tr>\n",
       "    <tr>\n",
       "      <th>1</th>\n",
       "      <td>1</td>\n",
       "      <td>fit</td>\n",
       "      <td>273551</td>\n",
       "      <td>34b</td>\n",
       "      <td>153475</td>\n",
       "      <td>132lbs</td>\n",
       "      <td>10.0</td>\n",
       "      <td>other</td>\n",
       "      <td>I rented this dress for a photo shoot. The the...</td>\n",
       "      <td>straight &amp; narrow</td>\n",
       "      <td>I felt so glamourous!!!</td>\n",
       "      <td>gown</td>\n",
       "      <td>5' 6\"</td>\n",
       "      <td>12</td>\n",
       "      <td>36.0</td>\n",
       "      <td>18-Jun-13</td>\n",
       "    </tr>\n",
       "    <tr>\n",
       "      <th>2</th>\n",
       "      <td>2</td>\n",
       "      <td>fit</td>\n",
       "      <td>360448</td>\n",
       "      <td>NaN</td>\n",
       "      <td>1063761</td>\n",
       "      <td>NaN</td>\n",
       "      <td>10.0</td>\n",
       "      <td>party</td>\n",
       "      <td>This hugged in all the right places! It was a ...</td>\n",
       "      <td>NaN</td>\n",
       "      <td>It was a great time to celebrate the (almost) ...</td>\n",
       "      <td>sheath</td>\n",
       "      <td>5' 4\"</td>\n",
       "      <td>4</td>\n",
       "      <td>116.0</td>\n",
       "      <td>14-Dec-15</td>\n",
       "    </tr>\n",
       "    <tr>\n",
       "      <th>3</th>\n",
       "      <td>3</td>\n",
       "      <td>fit</td>\n",
       "      <td>909926</td>\n",
       "      <td>34c</td>\n",
       "      <td>126335</td>\n",
       "      <td>135lbs</td>\n",
       "      <td>8.0</td>\n",
       "      <td>formal affair</td>\n",
       "      <td>I rented this for my company's black tie award...</td>\n",
       "      <td>pear</td>\n",
       "      <td>Dress arrived on time and in perfect condition.</td>\n",
       "      <td>dress</td>\n",
       "      <td>5' 5\"</td>\n",
       "      <td>8</td>\n",
       "      <td>34.0</td>\n",
       "      <td>12-Feb-14</td>\n",
       "    </tr>\n",
       "    <tr>\n",
       "      <th>4</th>\n",
       "      <td>4</td>\n",
       "      <td>fit</td>\n",
       "      <td>151944</td>\n",
       "      <td>34b</td>\n",
       "      <td>616682</td>\n",
       "      <td>145lbs</td>\n",
       "      <td>10.0</td>\n",
       "      <td>wedding</td>\n",
       "      <td>I have always been petite in my upper body and...</td>\n",
       "      <td>athletic</td>\n",
       "      <td>Was in love with this dress !!!</td>\n",
       "      <td>gown</td>\n",
       "      <td>5' 9\"</td>\n",
       "      <td>12</td>\n",
       "      <td>27.0</td>\n",
       "      <td>26-Sep-16</td>\n",
       "    </tr>\n",
       "  </tbody>\n",
       "</table>\n",
       "</div>"
      ],
      "text/plain": [
       "   id  fit  user_id bust size  item_id  weight  rating     rented for  \\\n",
       "0   0  fit   420272       34d  2260466  137lbs    10.0       vacation   \n",
       "1   1  fit   273551       34b   153475  132lbs    10.0          other   \n",
       "2   2  fit   360448       NaN  1063761     NaN    10.0          party   \n",
       "3   3  fit   909926       34c   126335  135lbs     8.0  formal affair   \n",
       "4   4  fit   151944       34b   616682  145lbs    10.0        wedding   \n",
       "\n",
       "                                         review_text          body type  \\\n",
       "0  An adorable romper! Belt and zipper were a lit...          hourglass   \n",
       "1  I rented this dress for a photo shoot. The the...  straight & narrow   \n",
       "2  This hugged in all the right places! It was a ...                NaN   \n",
       "3  I rented this for my company's black tie award...               pear   \n",
       "4  I have always been petite in my upper body and...           athletic   \n",
       "\n",
       "                                      review_summary category height  size  \\\n",
       "0                               So many compliments!   romper  5' 8\"    14   \n",
       "1                            I felt so glamourous!!!     gown  5' 6\"    12   \n",
       "2  It was a great time to celebrate the (almost) ...   sheath  5' 4\"     4   \n",
       "3   Dress arrived on time and in perfect condition.     dress  5' 5\"     8   \n",
       "4                    Was in love with this dress !!!     gown  5' 9\"    12   \n",
       "\n",
       "     age     review_date  \n",
       "0   28.0  April 20, 2016  \n",
       "1   36.0       18-Jun-13  \n",
       "2  116.0       14-Dec-15  \n",
       "3   34.0       12-Feb-14  \n",
       "4   27.0       26-Sep-16  "
      ]
     },
     "execution_count": 58,
     "metadata": {},
     "output_type": "execute_result"
    }
   ],
   "source": [
    "ecom.head()"
   ]
  },
  {
   "cell_type": "code",
   "execution_count": 59,
   "id": "729f860a",
   "metadata": {},
   "outputs": [
    {
     "data": {
      "text/plain": [
       "(192543, 16)"
      ]
     },
     "execution_count": 59,
     "metadata": {},
     "output_type": "execute_result"
    }
   ],
   "source": [
    "ecom.shape"
   ]
  },
  {
   "cell_type": "code",
   "execution_count": 60,
   "id": "b23aea1e",
   "metadata": {},
   "outputs": [
    {
     "name": "stdout",
     "output_type": "stream",
     "text": [
      "<class 'pandas.core.frame.DataFrame'>\n",
      "RangeIndex: 192543 entries, 0 to 192542\n",
      "Data columns (total 16 columns):\n",
      " #   Column          Non-Null Count   Dtype  \n",
      "---  ------          --------------   -----  \n",
      " 0   id              192543 non-null  int64  \n",
      " 1   fit             192543 non-null  object \n",
      " 2   user_id         192543 non-null  int64  \n",
      " 3   bust size       174132 non-null  object \n",
      " 4   item_id         192543 non-null  int64  \n",
      " 5   weight          162562 non-null  object \n",
      " 6   rating          192461 non-null  float64\n",
      " 7   rented for      192533 non-null  object \n",
      " 8   review_text     192481 non-null  object \n",
      " 9   body type       177906 non-null  object \n",
      " 10  review_summary  192198 non-null  object \n",
      " 11  category        192543 non-null  object \n",
      " 12  height          191866 non-null  object \n",
      " 13  size            192543 non-null  int64  \n",
      " 14  age             191583 non-null  float64\n",
      " 15  review_date     192543 non-null  object \n",
      "dtypes: float64(2), int64(4), object(10)\n",
      "memory usage: 23.5+ MB\n"
     ]
    }
   ],
   "source": [
    "ecom.info()"
   ]
  },
  {
   "cell_type": "markdown",
   "id": "2b97a689",
   "metadata": {},
   "source": [
    "# Data cleansing and Exploratory data analysis"
   ]
  },
  {
   "cell_type": "markdown",
   "id": "ea88e664",
   "metadata": {},
   "source": [
    "# 3. Check if there are any duplicate records in the dataset? If any, drop them"
   ]
  },
  {
   "cell_type": "code",
   "execution_count": 6,
   "id": "53aeb425",
   "metadata": {},
   "outputs": [
    {
     "data": {
      "text/html": [
       "<div>\n",
       "<style scoped>\n",
       "    .dataframe tbody tr th:only-of-type {\n",
       "        vertical-align: middle;\n",
       "    }\n",
       "\n",
       "    .dataframe tbody tr th {\n",
       "        vertical-align: top;\n",
       "    }\n",
       "\n",
       "    .dataframe thead th {\n",
       "        text-align: right;\n",
       "    }\n",
       "</style>\n",
       "<table border=\"1\" class=\"dataframe\">\n",
       "  <thead>\n",
       "    <tr style=\"text-align: right;\">\n",
       "      <th></th>\n",
       "      <th>id</th>\n",
       "      <th>fit</th>\n",
       "      <th>user_id</th>\n",
       "      <th>bust size</th>\n",
       "      <th>item_id</th>\n",
       "      <th>weight</th>\n",
       "      <th>rating</th>\n",
       "      <th>rented for</th>\n",
       "      <th>review_text</th>\n",
       "      <th>body type</th>\n",
       "      <th>review_summary</th>\n",
       "      <th>category</th>\n",
       "      <th>height</th>\n",
       "      <th>size</th>\n",
       "      <th>age</th>\n",
       "      <th>review_date</th>\n",
       "    </tr>\n",
       "  </thead>\n",
       "  <tbody>\n",
       "  </tbody>\n",
       "</table>\n",
       "</div>"
      ],
      "text/plain": [
       "Empty DataFrame\n",
       "Columns: [id, fit, user_id, bust size, item_id, weight, rating, rented for, review_text, body type, review_summary, category, height, size, age, review_date]\n",
       "Index: []"
      ]
     },
     "execution_count": 6,
     "metadata": {},
     "output_type": "execute_result"
    }
   ],
   "source": [
    "ecom[ecom.duplicated()]"
   ]
  },
  {
   "cell_type": "markdown",
   "id": "fe47489f",
   "metadata": {},
   "source": [
    "# 4. Drop the columns which you think redundant for the analysis.(Hint: drop columns like ‘id’, ‘review’)"
   ]
  },
  {
   "cell_type": "code",
   "execution_count": 7,
   "id": "94ec2472",
   "metadata": {},
   "outputs": [
    {
     "data": {
      "text/plain": [
       "Index(['id', 'fit', 'user_id', 'bust size', 'item_id', 'weight', 'rating',\n",
       "       'rented for', 'review_text', 'body type', 'review_summary', 'category',\n",
       "       'height', 'size', 'age', 'review_date'],\n",
       "      dtype='object')"
      ]
     },
     "execution_count": 7,
     "metadata": {},
     "output_type": "execute_result"
    }
   ],
   "source": [
    "ecom.columns"
   ]
  },
  {
   "cell_type": "code",
   "execution_count": 8,
   "id": "bca71988",
   "metadata": {},
   "outputs": [],
   "source": [
    "ecom.drop(['id','review_text'], axis=1,inplace=True)"
   ]
  },
  {
   "cell_type": "markdown",
   "id": "b1befdea",
   "metadata": {},
   "source": [
    "# 5.Check the column 'weight', Is there any presence of string data? If yes, remove the string data and convert to float."
   ]
  },
  {
   "cell_type": "code",
   "execution_count": 9,
   "id": "b42c0bad",
   "metadata": {},
   "outputs": [
    {
     "data": {
      "text/plain": [
       "dtype('O')"
      ]
     },
     "execution_count": 9,
     "metadata": {},
     "output_type": "execute_result"
    }
   ],
   "source": [
    "ecom['weight'].dtypes"
   ]
  },
  {
   "cell_type": "code",
   "execution_count": 10,
   "id": "6efa5c61",
   "metadata": {},
   "outputs": [
    {
     "data": {
      "text/plain": [
       "fit                object\n",
       "user_id             int64\n",
       "bust size          object\n",
       "item_id             int64\n",
       "weight             object\n",
       "rating            float64\n",
       "rented for         object\n",
       "body type          object\n",
       "review_summary     object\n",
       "category           object\n",
       "height             object\n",
       "size                int64\n",
       "age               float64\n",
       "review_date        object\n",
       "dtype: object"
      ]
     },
     "execution_count": 10,
     "metadata": {},
     "output_type": "execute_result"
    }
   ],
   "source": [
    "ecom.dtypes"
   ]
  },
  {
   "cell_type": "code",
   "execution_count": 12,
   "id": "8a5d7ce3",
   "metadata": {},
   "outputs": [],
   "source": [
    "ecom['weight'].fillna(value = 0,inplace = True)\n",
    "ecom['weight']=ecom['weight'].replace({\"lbs\":\" \"}, regex=True).map(pd.eval).astype(float)"
   ]
  },
  {
   "cell_type": "code",
   "execution_count": 13,
   "id": "389996f6",
   "metadata": {},
   "outputs": [
    {
     "data": {
      "text/plain": [
       "dtype('float64')"
      ]
     },
     "execution_count": 13,
     "metadata": {},
     "output_type": "execute_result"
    }
   ],
   "source": [
    "ecom['weight'].dtypes"
   ]
  },
  {
   "cell_type": "markdown",
   "id": "ed291da5",
   "metadata": {},
   "source": [
    "# 6. Check the unique categories for the column 'rented for' and group 'party: cocktail' category with 'party'"
   ]
  },
  {
   "cell_type": "code",
   "execution_count": 16,
   "id": "88ea4e75",
   "metadata": {},
   "outputs": [
    {
     "data": {
      "text/plain": [
       "array(['vacation', 'other', 'party', 'formal affair', 'wedding', 'date',\n",
       "       'everyday', 'work', nan], dtype=object)"
      ]
     },
     "execution_count": 16,
     "metadata": {},
     "output_type": "execute_result"
    }
   ],
   "source": [
    "ecom['rented for'].unique()"
   ]
  },
  {
   "cell_type": "code",
   "execution_count": 15,
   "id": "44a155ca",
   "metadata": {},
   "outputs": [],
   "source": [
    "ecom['rented for']=ecom['rented for'].replace(['party: cocktail'],'party')"
   ]
  },
  {
   "cell_type": "markdown",
   "id": "907ac2bb",
   "metadata": {},
   "source": [
    "# 7. The column 'height' is in feet with a quotation mark, Convert to inches with float datatype"
   ]
  },
  {
   "cell_type": "code",
   "execution_count": 18,
   "id": "c80c3abf",
   "metadata": {},
   "outputs": [
    {
     "data": {
      "text/plain": [
       "0         5' 8\"\n",
       "1         5' 6\"\n",
       "2         5' 4\"\n",
       "3         5' 5\"\n",
       "4         5' 9\"\n",
       "          ...  \n",
       "192538    5' 9\"\n",
       "192539    5' 1\"\n",
       "192540    5' 8\"\n",
       "192541    5' 6\"\n",
       "192542    5' 6\"\n",
       "Name: height, Length: 192543, dtype: object"
      ]
     },
     "execution_count": 18,
     "metadata": {},
     "output_type": "execute_result"
    }
   ],
   "source": [
    "ecom[\"height\"]"
   ]
  },
  {
   "cell_type": "code",
   "execution_count": 8,
   "id": "0c7a5a5b",
   "metadata": {},
   "outputs": [
    {
     "ename": "SyntaxError",
     "evalue": "EOL while scanning string literal (<ipython-input-8-fd33ddbb36ac>, line 1)",
     "output_type": "error",
     "traceback": [
      "\u001b[1;36m  File \u001b[1;32m\"<ipython-input-8-fd33ddbb36ac>\"\u001b[1;36m, line \u001b[1;32m1\u001b[0m\n\u001b[1;33m    ecom[\"height\"].apply(lambda x: x.replace(' ' ', '').replace('\"', ' '))astype('float')\u001b[0m\n\u001b[1;37m                                                                                         ^\u001b[0m\n\u001b[1;31mSyntaxError\u001b[0m\u001b[1;31m:\u001b[0m EOL while scanning string literal\n"
     ]
    }
   ],
   "source": [
    "ecom[\"height\"].apply(lambda x: x.replace(' ' ', '').replace('\"', ' '))astype('float')"
   ]
  },
  {
   "cell_type": "markdown",
   "id": "f621ab34",
   "metadata": {},
   "source": [
    "# 8. Check for missing values in each column of the dataset? If it exists, impute them with appropriate methods."
   ]
  },
  {
   "cell_type": "code",
   "execution_count": 61,
   "id": "e63db4aa",
   "metadata": {},
   "outputs": [
    {
     "data": {
      "text/plain": [
       "id                    0\n",
       "fit                   0\n",
       "user_id               0\n",
       "bust size         18411\n",
       "item_id               0\n",
       "weight            29981\n",
       "rating               82\n",
       "rented for           10\n",
       "review_text          62\n",
       "body type         14637\n",
       "review_summary      345\n",
       "category              0\n",
       "height              677\n",
       "size                  0\n",
       "age                 960\n",
       "review_date           0\n",
       "dtype: int64"
      ]
     },
     "execution_count": 61,
     "metadata": {},
     "output_type": "execute_result"
    }
   ],
   "source": [
    "ecom.isnull().sum()"
   ]
  },
  {
   "cell_type": "code",
   "execution_count": 10,
   "id": "4fdf1a29",
   "metadata": {},
   "outputs": [
    {
     "name": "stdout",
     "output_type": "stream",
     "text": [
      "<class 'pandas.core.frame.DataFrame'>\n",
      "RangeIndex: 192543 entries, 0 to 192542\n",
      "Data columns (total 16 columns):\n",
      " #   Column          Non-Null Count   Dtype  \n",
      "---  ------          --------------   -----  \n",
      " 0   id              192543 non-null  int64  \n",
      " 1   fit             192543 non-null  object \n",
      " 2   user_id         192543 non-null  int64  \n",
      " 3   bust size       174132 non-null  object \n",
      " 4   item_id         192543 non-null  int64  \n",
      " 5   weight          162562 non-null  object \n",
      " 6   rating          192461 non-null  float64\n",
      " 7   rented for      192533 non-null  object \n",
      " 8   review_text     192481 non-null  object \n",
      " 9   body type       177906 non-null  object \n",
      " 10  review_summary  192198 non-null  object \n",
      " 11  category        192543 non-null  object \n",
      " 12  height          192543 non-null  object \n",
      " 13  size            192543 non-null  int64  \n",
      " 14  age             191583 non-null  float64\n",
      " 15  review_date     192543 non-null  object \n",
      "dtypes: float64(2), int64(4), object(10)\n",
      "memory usage: 23.5+ MB\n"
     ]
    }
   ],
   "source": [
    "ecom.info()"
   ]
  },
  {
   "cell_type": "code",
   "execution_count": 65,
   "id": "cd1c07c6",
   "metadata": {},
   "outputs": [
    {
     "name": "stdout",
     "output_type": "stream",
     "text": [
      "<class 'pandas.core.frame.DataFrame'>\n",
      "RangeIndex: 192543 entries, 0 to 192542\n",
      "Data columns (total 16 columns):\n",
      " #   Column          Non-Null Count   Dtype\n",
      "---  ------          --------------   -----\n",
      " 0   id              192543 non-null  bool \n",
      " 1   fit             192543 non-null  bool \n",
      " 2   user_id         192543 non-null  bool \n",
      " 3   bust size       192543 non-null  bool \n",
      " 4   item_id         192543 non-null  bool \n",
      " 5   weight          192543 non-null  bool \n",
      " 6   rating          192543 non-null  bool \n",
      " 7   rented for      192543 non-null  bool \n",
      " 8   review_text     192543 non-null  bool \n",
      " 9   body type       192543 non-null  bool \n",
      " 10  review_summary  192543 non-null  bool \n",
      " 11  category        192543 non-null  bool \n",
      " 12  height          192543 non-null  bool \n",
      " 13  size            192543 non-null  bool \n",
      " 14  age             192543 non-null  bool \n",
      " 15  review_date     192543 non-null  bool \n",
      "dtypes: bool(16)\n",
      "memory usage: 2.9 MB\n"
     ]
    }
   ],
   "source": [
    "updated_ecom = ecom\n",
    "updated_ecom = updated_ecom.isnull()\n",
    "from sklearn.impute import SimpleImputer\n",
    "my_imputer = SimpleImputer(strategy = 'mean')\n",
    "data_new = my_imputer.fit_transform(updated_ecom)\n",
    "updated_ecom.info()"
   ]
  },
  {
   "cell_type": "markdown",
   "id": "e1c75a20",
   "metadata": {},
   "source": [
    "# 9. Check the statistical summary for the numerical and categorical columns and write your findings. "
   ]
  },
  {
   "cell_type": "code",
   "execution_count": 12,
   "id": "d1805c78",
   "metadata": {},
   "outputs": [
    {
     "data": {
      "text/html": [
       "<div>\n",
       "<style scoped>\n",
       "    .dataframe tbody tr th:only-of-type {\n",
       "        vertical-align: middle;\n",
       "    }\n",
       "\n",
       "    .dataframe tbody tr th {\n",
       "        vertical-align: top;\n",
       "    }\n",
       "\n",
       "    .dataframe thead th {\n",
       "        text-align: right;\n",
       "    }\n",
       "</style>\n",
       "<table border=\"1\" class=\"dataframe\">\n",
       "  <thead>\n",
       "    <tr style=\"text-align: right;\">\n",
       "      <th></th>\n",
       "      <th>id</th>\n",
       "      <th>user_id</th>\n",
       "      <th>item_id</th>\n",
       "      <th>rating</th>\n",
       "      <th>size</th>\n",
       "      <th>age</th>\n",
       "    </tr>\n",
       "  </thead>\n",
       "  <tbody>\n",
       "    <tr>\n",
       "      <th>count</th>\n",
       "      <td>192543.000000</td>\n",
       "      <td>192543.000000</td>\n",
       "      <td>1.925430e+05</td>\n",
       "      <td>192461.000000</td>\n",
       "      <td>192543.000000</td>\n",
       "      <td>191583.000000</td>\n",
       "    </tr>\n",
       "    <tr>\n",
       "      <th>mean</th>\n",
       "      <td>96271.019590</td>\n",
       "      <td>499492.878225</td>\n",
       "      <td>1.045682e+06</td>\n",
       "      <td>9.092388</td>\n",
       "      <td>12.245218</td>\n",
       "      <td>33.871058</td>\n",
       "    </tr>\n",
       "    <tr>\n",
       "      <th>std</th>\n",
       "      <td>55582.554045</td>\n",
       "      <td>289059.972687</td>\n",
       "      <td>8.053167e+05</td>\n",
       "      <td>1.430031</td>\n",
       "      <td>8.494878</td>\n",
       "      <td>8.058084</td>\n",
       "    </tr>\n",
       "    <tr>\n",
       "      <th>min</th>\n",
       "      <td>0.000000</td>\n",
       "      <td>9.000000</td>\n",
       "      <td>1.233730e+05</td>\n",
       "      <td>2.000000</td>\n",
       "      <td>0.000000</td>\n",
       "      <td>0.000000</td>\n",
       "    </tr>\n",
       "    <tr>\n",
       "      <th>25%</th>\n",
       "      <td>48135.500000</td>\n",
       "      <td>250653.500000</td>\n",
       "      <td>1.950760e+05</td>\n",
       "      <td>8.000000</td>\n",
       "      <td>8.000000</td>\n",
       "      <td>29.000000</td>\n",
       "    </tr>\n",
       "    <tr>\n",
       "      <th>50%</th>\n",
       "      <td>96271.000000</td>\n",
       "      <td>499419.000000</td>\n",
       "      <td>9.483960e+05</td>\n",
       "      <td>10.000000</td>\n",
       "      <td>12.000000</td>\n",
       "      <td>32.000000</td>\n",
       "    </tr>\n",
       "    <tr>\n",
       "      <th>75%</th>\n",
       "      <td>144406.500000</td>\n",
       "      <td>750975.000000</td>\n",
       "      <td>1.678888e+06</td>\n",
       "      <td>10.000000</td>\n",
       "      <td>16.000000</td>\n",
       "      <td>37.000000</td>\n",
       "    </tr>\n",
       "    <tr>\n",
       "      <th>max</th>\n",
       "      <td>192543.000000</td>\n",
       "      <td>999997.000000</td>\n",
       "      <td>2.966087e+06</td>\n",
       "      <td>10.000000</td>\n",
       "      <td>58.000000</td>\n",
       "      <td>117.000000</td>\n",
       "    </tr>\n",
       "  </tbody>\n",
       "</table>\n",
       "</div>"
      ],
      "text/plain": [
       "                  id        user_id       item_id         rating  \\\n",
       "count  192543.000000  192543.000000  1.925430e+05  192461.000000   \n",
       "mean    96271.019590  499492.878225  1.045682e+06       9.092388   \n",
       "std     55582.554045  289059.972687  8.053167e+05       1.430031   \n",
       "min         0.000000       9.000000  1.233730e+05       2.000000   \n",
       "25%     48135.500000  250653.500000  1.950760e+05       8.000000   \n",
       "50%     96271.000000  499419.000000  9.483960e+05      10.000000   \n",
       "75%    144406.500000  750975.000000  1.678888e+06      10.000000   \n",
       "max    192543.000000  999997.000000  2.966087e+06      10.000000   \n",
       "\n",
       "                size            age  \n",
       "count  192543.000000  191583.000000  \n",
       "mean       12.245218      33.871058  \n",
       "std         8.494878       8.058084  \n",
       "min         0.000000       0.000000  \n",
       "25%         8.000000      29.000000  \n",
       "50%        12.000000      32.000000  \n",
       "75%        16.000000      37.000000  \n",
       "max        58.000000     117.000000  "
      ]
     },
     "execution_count": 12,
     "metadata": {},
     "output_type": "execute_result"
    }
   ],
   "source": [
    "ecom.describe()"
   ]
  },
  {
   "cell_type": "code",
   "execution_count": 13,
   "id": "368cc8bf",
   "metadata": {},
   "outputs": [
    {
     "data": {
      "text/plain": [
       "['fit',\n",
       " 'bust size',\n",
       " 'weight',\n",
       " 'rented for',\n",
       " 'review_text',\n",
       " 'body type',\n",
       " 'review_summary',\n",
       " 'category',\n",
       " 'height',\n",
       " 'review_date']"
      ]
     },
     "execution_count": 13,
     "metadata": {},
     "output_type": "execute_result"
    }
   ],
   "source": [
    "#Categorical Columns\n",
    "ecom.select_dtypes(include=['object']).columns.tolist()"
   ]
  },
  {
   "cell_type": "code",
   "execution_count": 14,
   "id": "8f7f3a3d",
   "metadata": {},
   "outputs": [
    {
     "data": {
      "text/plain": [
       "['id', 'user_id', 'item_id', 'rating', 'size', 'age']"
      ]
     },
     "execution_count": 14,
     "metadata": {},
     "output_type": "execute_result"
    }
   ],
   "source": [
    "#Numerical Columns\n",
    "ecom.select_dtypes(exclude=['object']).columns.tolist()"
   ]
  },
  {
   "cell_type": "markdown",
   "id": "c737aae2",
   "metadata": {},
   "source": [
    "# 10. Are there outliers present in the column age? If yes, treat them with the appropriate method."
   ]
  },
  {
   "cell_type": "code",
   "execution_count": 15,
   "id": "15d9b805",
   "metadata": {},
   "outputs": [
    {
     "data": {
      "text/plain": [
       "<AxesSubplot:xlabel='age'>"
      ]
     },
     "execution_count": 15,
     "metadata": {},
     "output_type": "execute_result"
    },
    {
     "data": {
      "image/png": "[encoded data removed]",
      "text/plain": [
       "<Figure size 432x288 with 1 Axes>"
      ]
     },
     "metadata": {
      "needs_background": "light"
     },
     "output_type": "display_data"
    }
   ],
   "source": [
    "sns.boxplot(ecom['age'])"
   ]
  },
  {
   "cell_type": "code",
   "execution_count": 16,
   "id": "cdae76b8",
   "metadata": {},
   "outputs": [],
   "source": [
    "q1=ecom['age'].quantile(0.25)\n",
    "q1=ecom['age'].quantile(0.50)\n",
    "q3=ecom['age'].quantile(0.75)"
   ]
  },
  {
   "cell_type": "code",
   "execution_count": 17,
   "id": "93554c27",
   "metadata": {},
   "outputs": [],
   "source": [
    "iqr=q3-q1"
   ]
  },
  {
   "cell_type": "code",
   "execution_count": 18,
   "id": "6d1e8d38",
   "metadata": {},
   "outputs": [],
   "source": [
    "upper_limit=q3+1.5*(iqr)"
   ]
  },
  {
   "cell_type": "code",
   "execution_count": 19,
   "id": "33dbca23",
   "metadata": {},
   "outputs": [],
   "source": [
    "lower_limit=q1-1.5*(iqr)"
   ]
  },
  {
   "cell_type": "code",
   "execution_count": 20,
   "id": "c22f6fb1",
   "metadata": {},
   "outputs": [],
   "source": [
    "ecom_wo_out=ecom.loc[(ecom['age']>lower_limit) & (ecom['age']<upper_limit)]"
   ]
  },
  {
   "cell_type": "code",
   "execution_count": 21,
   "id": "27aa9d07",
   "metadata": {},
   "outputs": [
    {
     "data": {
      "text/plain": [
       "<AxesSubplot:xlabel='age'>"
      ]
     },
     "execution_count": 21,
     "metadata": {},
     "output_type": "execute_result"
    },
    {
     "data": {
      "image/png": "[encoded data removed]",
      "text/plain": [
       "<Figure size 432x288 with 1 Axes>"
      ]
     },
     "metadata": {
      "needs_background": "light"
     },
     "output_type": "display_data"
    }
   ],
   "source": [
    "sns.boxplot(ecom_wo_out['age'])"
   ]
  },
  {
   "cell_type": "markdown",
   "id": "0a149149",
   "metadata": {},
   "source": [
    "# 11. Check the distribution of the different categories in the column 'rented for' using appropriate plot."
   ]
  },
  {
   "cell_type": "code",
   "execution_count": 34,
   "id": "e76e9e1e",
   "metadata": {},
   "outputs": [
    {
     "data": {
      "image/png": "[encoded data removed]",
      "text/plain": [
       "<Figure size 432x288 with 1 Axes>"
      ]
     },
     "metadata": {},
     "output_type": "display_data"
    }
   ],
   "source": [
    "ecom['rented for'].value_counts().plot(kind='pie',radius=2,autopct='%1.2f%%')\n",
    "plt.show()"
   ]
  },
  {
   "cell_type": "markdown",
   "id": "29c83f2a",
   "metadata": {},
   "source": [
    "# ● Data Preparation for model building: \n",
    "   "
   ]
  },
  {
   "cell_type": "markdown",
   "id": "cacec29d",
   "metadata": {},
   "source": [
    "# 12. Encode the categorical variables in the dataset."
   ]
  },
  {
   "cell_type": "code",
   "execution_count": 44,
   "id": "56b550b3",
   "metadata": {},
   "outputs": [
    {
     "data": {
      "text/plain": [
       "Index(['fit', 'bust size', 'weight', 'rented for', 'review_text', 'body type',\n",
       "       'review_summary', 'category', 'height', 'review_date'],\n",
       "      dtype='object')"
      ]
     },
     "execution_count": 44,
     "metadata": {},
     "output_type": "execute_result"
    }
   ],
   "source": [
    "#Categorical Columns\n",
    "ecom.select_dtypes(include=['object']).columns"
   ]
  },
  {
   "cell_type": "code",
   "execution_count": 67,
   "id": "9e119e20",
   "metadata": {},
   "outputs": [],
   "source": [
    "cate=['fit', 'bust size', 'weight', 'rented for', 'review_text', 'body type',\n",
    "       'review_summary', 'category', 'height', 'review_date']\n",
    "l_encode=LabelEncoder()\n",
    "for i in cate:\n",
    "    ecom[i]=ecom[[i]].apply(l_encode.fit_transform)"
   ]
  },
  {
   "cell_type": "markdown",
   "id": "772c9ffa",
   "metadata": {},
   "source": [
    "# 13. Standardize the data, so that the values are within a particular range."
   ]
  },
  {
   "cell_type": "code",
   "execution_count": 72,
   "id": "12ce023a",
   "metadata": {},
   "outputs": [],
   "source": [
    "df_1=updated_ecom.copy()\n",
    "scaled_features=StandardScaler().fit_transform(df_1.values)\n",
    "scaled_features_df1=pd.DataFrame(scaled_features,index=df_1.index,columns=df_1.columns)"
   ]
  },
  {
   "cell_type": "code",
   "execution_count": 73,
   "id": "2325e555",
   "metadata": {},
   "outputs": [
    {
     "data": {
      "text/html": [
       "<div>\n",
       "<style scoped>\n",
       "    .dataframe tbody tr th:only-of-type {\n",
       "        vertical-align: middle;\n",
       "    }\n",
       "\n",
       "    .dataframe tbody tr th {\n",
       "        vertical-align: top;\n",
       "    }\n",
       "\n",
       "    .dataframe thead th {\n",
       "        text-align: right;\n",
       "    }\n",
       "</style>\n",
       "<table border=\"1\" class=\"dataframe\">\n",
       "  <thead>\n",
       "    <tr style=\"text-align: right;\">\n",
       "      <th></th>\n",
       "      <th>id</th>\n",
       "      <th>fit</th>\n",
       "      <th>user_id</th>\n",
       "      <th>bust size</th>\n",
       "      <th>item_id</th>\n",
       "      <th>weight</th>\n",
       "      <th>rating</th>\n",
       "      <th>rented for</th>\n",
       "      <th>review_text</th>\n",
       "      <th>body type</th>\n",
       "      <th>review_summary</th>\n",
       "      <th>category</th>\n",
       "      <th>height</th>\n",
       "      <th>size</th>\n",
       "      <th>age</th>\n",
       "      <th>review_date</th>\n",
       "    </tr>\n",
       "  </thead>\n",
       "  <tbody>\n",
       "    <tr>\n",
       "      <th>0</th>\n",
       "      <td>0.0</td>\n",
       "      <td>0.0</td>\n",
       "      <td>0.0</td>\n",
       "      <td>-0.325162</td>\n",
       "      <td>0.0</td>\n",
       "      <td>-0.429451</td>\n",
       "      <td>-0.020641</td>\n",
       "      <td>-0.007207</td>\n",
       "      <td>-0.017947</td>\n",
       "      <td>-0.286834</td>\n",
       "      <td>-0.042368</td>\n",
       "      <td>0.0</td>\n",
       "      <td>-0.059401</td>\n",
       "      <td>0.0</td>\n",
       "      <td>-0.070788</td>\n",
       "      <td>0.0</td>\n",
       "    </tr>\n",
       "    <tr>\n",
       "      <th>1</th>\n",
       "      <td>0.0</td>\n",
       "      <td>0.0</td>\n",
       "      <td>0.0</td>\n",
       "      <td>-0.325162</td>\n",
       "      <td>0.0</td>\n",
       "      <td>-0.429451</td>\n",
       "      <td>-0.020641</td>\n",
       "      <td>-0.007207</td>\n",
       "      <td>-0.017947</td>\n",
       "      <td>-0.286834</td>\n",
       "      <td>-0.042368</td>\n",
       "      <td>0.0</td>\n",
       "      <td>-0.059401</td>\n",
       "      <td>0.0</td>\n",
       "      <td>-0.070788</td>\n",
       "      <td>0.0</td>\n",
       "    </tr>\n",
       "    <tr>\n",
       "      <th>2</th>\n",
       "      <td>0.0</td>\n",
       "      <td>0.0</td>\n",
       "      <td>0.0</td>\n",
       "      <td>3.075393</td>\n",
       "      <td>0.0</td>\n",
       "      <td>2.328555</td>\n",
       "      <td>-0.020641</td>\n",
       "      <td>-0.007207</td>\n",
       "      <td>-0.017947</td>\n",
       "      <td>3.486336</td>\n",
       "      <td>-0.042368</td>\n",
       "      <td>0.0</td>\n",
       "      <td>-0.059401</td>\n",
       "      <td>0.0</td>\n",
       "      <td>-0.070788</td>\n",
       "      <td>0.0</td>\n",
       "    </tr>\n",
       "    <tr>\n",
       "      <th>3</th>\n",
       "      <td>0.0</td>\n",
       "      <td>0.0</td>\n",
       "      <td>0.0</td>\n",
       "      <td>-0.325162</td>\n",
       "      <td>0.0</td>\n",
       "      <td>-0.429451</td>\n",
       "      <td>-0.020641</td>\n",
       "      <td>-0.007207</td>\n",
       "      <td>-0.017947</td>\n",
       "      <td>-0.286834</td>\n",
       "      <td>-0.042368</td>\n",
       "      <td>0.0</td>\n",
       "      <td>-0.059401</td>\n",
       "      <td>0.0</td>\n",
       "      <td>-0.070788</td>\n",
       "      <td>0.0</td>\n",
       "    </tr>\n",
       "    <tr>\n",
       "      <th>4</th>\n",
       "      <td>0.0</td>\n",
       "      <td>0.0</td>\n",
       "      <td>0.0</td>\n",
       "      <td>-0.325162</td>\n",
       "      <td>0.0</td>\n",
       "      <td>-0.429451</td>\n",
       "      <td>-0.020641</td>\n",
       "      <td>-0.007207</td>\n",
       "      <td>-0.017947</td>\n",
       "      <td>-0.286834</td>\n",
       "      <td>-0.042368</td>\n",
       "      <td>0.0</td>\n",
       "      <td>-0.059401</td>\n",
       "      <td>0.0</td>\n",
       "      <td>-0.070788</td>\n",
       "      <td>0.0</td>\n",
       "    </tr>\n",
       "  </tbody>\n",
       "</table>\n",
       "</div>"
      ],
      "text/plain": [
       "    id  fit  user_id  bust size  item_id    weight    rating  rented for  \\\n",
       "0  0.0  0.0      0.0  -0.325162      0.0 -0.429451 -0.020641   -0.007207   \n",
       "1  0.0  0.0      0.0  -0.325162      0.0 -0.429451 -0.020641   -0.007207   \n",
       "2  0.0  0.0      0.0   3.075393      0.0  2.328555 -0.020641   -0.007207   \n",
       "3  0.0  0.0      0.0  -0.325162      0.0 -0.429451 -0.020641   -0.007207   \n",
       "4  0.0  0.0      0.0  -0.325162      0.0 -0.429451 -0.020641   -0.007207   \n",
       "\n",
       "   review_text  body type  review_summary  category    height  size       age  \\\n",
       "0    -0.017947  -0.286834       -0.042368       0.0 -0.059401   0.0 -0.070788   \n",
       "1    -0.017947  -0.286834       -0.042368       0.0 -0.059401   0.0 -0.070788   \n",
       "2    -0.017947   3.486336       -0.042368       0.0 -0.059401   0.0 -0.070788   \n",
       "3    -0.017947  -0.286834       -0.042368       0.0 -0.059401   0.0 -0.070788   \n",
       "4    -0.017947  -0.286834       -0.042368       0.0 -0.059401   0.0 -0.070788   \n",
       "\n",
       "   review_date  \n",
       "0          0.0  \n",
       "1          0.0  \n",
       "2          0.0  \n",
       "3          0.0  \n",
       "4          0.0  "
      ]
     },
     "execution_count": 73,
     "metadata": {},
     "output_type": "execute_result"
    }
   ],
   "source": [
    "scaled_features_df1.head(5)"
   ]
  },
  {
   "cell_type": "markdown",
   "id": "fc45fcca",
   "metadata": {},
   "source": [
    "# 14. Apply PCA on the above dataset and determine the number of PCA components to be used so that 90-95% of the variance in data is explained by the same"
   ]
  },
  {
   "cell_type": "code",
   "execution_count": 74,
   "id": "bb6941ae",
   "metadata": {},
   "outputs": [
    {
     "data": {
      "text/plain": [
       "array([[ 0.00000000e+00,  0.00000000e+00,  0.00000000e+00,\n",
       "         0.00000000e+00,  0.00000000e+00,  0.00000000e+00,\n",
       "         0.00000000e+00,  0.00000000e+00,  0.00000000e+00,\n",
       "         0.00000000e+00,  0.00000000e+00,  0.00000000e+00,\n",
       "         0.00000000e+00,  0.00000000e+00,  0.00000000e+00,\n",
       "         0.00000000e+00],\n",
       "       [ 0.00000000e+00,  0.00000000e+00,  0.00000000e+00,\n",
       "         0.00000000e+00,  0.00000000e+00,  0.00000000e+00,\n",
       "         0.00000000e+00,  0.00000000e+00,  0.00000000e+00,\n",
       "         0.00000000e+00,  0.00000000e+00,  0.00000000e+00,\n",
       "         0.00000000e+00,  0.00000000e+00,  0.00000000e+00,\n",
       "         0.00000000e+00],\n",
       "       [ 0.00000000e+00,  0.00000000e+00,  0.00000000e+00,\n",
       "         0.00000000e+00,  0.00000000e+00,  0.00000000e+00,\n",
       "         0.00000000e+00,  0.00000000e+00,  0.00000000e+00,\n",
       "         0.00000000e+00,  0.00000000e+00,  0.00000000e+00,\n",
       "         0.00000000e+00,  0.00000000e+00,  0.00000000e+00,\n",
       "         0.00000000e+00],\n",
       "       [ 0.00000000e+00,  0.00000000e+00,  0.00000000e+00,\n",
       "         1.00000519e+00,  0.00000000e+00,  2.29581187e-01,\n",
       "         5.27222634e-03,  5.00884266e-03,  6.96108122e-03,\n",
       "         3.11832593e-01,  1.67088967e-02,  0.00000000e+00,\n",
       "         1.79814506e-02,  0.00000000e+00, -1.32383518e-02,\n",
       "         0.00000000e+00],\n",
       "       [ 0.00000000e+00,  0.00000000e+00,  0.00000000e+00,\n",
       "         0.00000000e+00,  0.00000000e+00,  0.00000000e+00,\n",
       "         0.00000000e+00,  0.00000000e+00,  0.00000000e+00,\n",
       "         0.00000000e+00,  0.00000000e+00,  0.00000000e+00,\n",
       "         0.00000000e+00,  0.00000000e+00,  0.00000000e+00,\n",
       "         0.00000000e+00],\n",
       "       [ 0.00000000e+00,  0.00000000e+00,  0.00000000e+00,\n",
       "         2.29581187e-01,  0.00000000e+00,  1.00000519e+00,\n",
       "         8.49193818e-03, -3.09501820e-03,  4.26807046e-03,\n",
       "         1.99049748e-01, -1.26002053e-03,  0.00000000e+00,\n",
       "         3.08744947e-02,  0.00000000e+00,  9.30446200e-02,\n",
       "         0.00000000e+00],\n",
       "       [ 0.00000000e+00,  0.00000000e+00,  0.00000000e+00,\n",
       "         5.27222634e-03,  0.00000000e+00,  8.49193818e-03,\n",
       "         1.00000519e+00, -1.48759676e-04, -3.70458637e-04,\n",
       "        -5.92063859e-03, -8.74526408e-04,  0.00000000e+00,\n",
       "        -1.22612045e-03,  0.00000000e+00,  2.11271000e-03,\n",
       "         0.00000000e+00],\n",
       "       [ 0.00000000e+00,  0.00000000e+00,  0.00000000e+00,\n",
       "         5.00884266e-03,  0.00000000e+00, -3.09501820e-03,\n",
       "        -1.48759676e-04,  1.00000519e+00,  8.02080260e-02,\n",
       "        -2.06719005e-03,  1.70104010e-01,  0.00000000e+00,\n",
       "        -4.28099766e-04,  0.00000000e+00, -5.10160463e-04,\n",
       "         0.00000000e+00],\n",
       "       [ 0.00000000e+00,  0.00000000e+00,  0.00000000e+00,\n",
       "         6.96108122e-03,  0.00000000e+00,  4.26807046e-03,\n",
       "        -3.70458637e-04,  8.02080260e-02,  1.00000519e+00,\n",
       "         3.13253124e-04,  2.38805106e-01,  0.00000000e+00,\n",
       "         3.82432417e-03,  0.00000000e+00,  6.94924175e-03,\n",
       "         0.00000000e+00],\n",
       "       [ 0.00000000e+00,  0.00000000e+00,  0.00000000e+00,\n",
       "         3.11832593e-01,  0.00000000e+00,  1.99049748e-01,\n",
       "        -5.92063859e-03, -2.06719005e-03,  3.13253124e-04,\n",
       "         1.00000519e+00,  2.67516010e-03,  0.00000000e+00,\n",
       "         2.56692050e-02,  0.00000000e+00,  1.34109909e-01,\n",
       "         0.00000000e+00],\n",
       "       [ 0.00000000e+00,  0.00000000e+00,  0.00000000e+00,\n",
       "         1.67088967e-02,  0.00000000e+00, -1.26002053e-03,\n",
       "        -8.74526408e-04,  1.70104010e-01,  2.38805106e-01,\n",
       "         2.67516010e-03,  1.00000519e+00,  0.00000000e+00,\n",
       "         1.63266754e-03,  0.00000000e+00,  7.46211529e-03,\n",
       "         0.00000000e+00],\n",
       "       [ 0.00000000e+00,  0.00000000e+00,  0.00000000e+00,\n",
       "         0.00000000e+00,  0.00000000e+00,  0.00000000e+00,\n",
       "         0.00000000e+00,  0.00000000e+00,  0.00000000e+00,\n",
       "         0.00000000e+00,  0.00000000e+00,  0.00000000e+00,\n",
       "         0.00000000e+00,  0.00000000e+00,  0.00000000e+00,\n",
       "         0.00000000e+00],\n",
       "       [ 0.00000000e+00,  0.00000000e+00,  0.00000000e+00,\n",
       "         1.79814506e-02,  0.00000000e+00,  3.08744947e-02,\n",
       "        -1.22612045e-03, -4.28099766e-04,  3.82432417e-03,\n",
       "         2.56692050e-02,  1.63266754e-03,  0.00000000e+00,\n",
       "         1.00000519e+00,  0.00000000e+00,  5.76091764e-03,\n",
       "         0.00000000e+00],\n",
       "       [ 0.00000000e+00,  0.00000000e+00,  0.00000000e+00,\n",
       "         0.00000000e+00,  0.00000000e+00,  0.00000000e+00,\n",
       "         0.00000000e+00,  0.00000000e+00,  0.00000000e+00,\n",
       "         0.00000000e+00,  0.00000000e+00,  0.00000000e+00,\n",
       "         0.00000000e+00,  0.00000000e+00,  0.00000000e+00,\n",
       "         0.00000000e+00],\n",
       "       [ 0.00000000e+00,  0.00000000e+00,  0.00000000e+00,\n",
       "        -1.32383518e-02,  0.00000000e+00,  9.30446200e-02,\n",
       "         2.11271000e-03, -5.10160463e-04,  6.94924175e-03,\n",
       "         1.34109909e-01,  7.46211529e-03,  0.00000000e+00,\n",
       "         5.76091764e-03,  0.00000000e+00,  1.00000519e+00,\n",
       "         0.00000000e+00],\n",
       "       [ 0.00000000e+00,  0.00000000e+00,  0.00000000e+00,\n",
       "         0.00000000e+00,  0.00000000e+00,  0.00000000e+00,\n",
       "         0.00000000e+00,  0.00000000e+00,  0.00000000e+00,\n",
       "         0.00000000e+00,  0.00000000e+00,  0.00000000e+00,\n",
       "         0.00000000e+00,  0.00000000e+00,  0.00000000e+00,\n",
       "         0.00000000e+00]])"
      ]
     },
     "execution_count": 74,
     "metadata": {},
     "output_type": "execute_result"
    }
   ],
   "source": [
    "cov_matrix=np.cov(scaled_features.T)\n",
    "cov_matrix"
   ]
  },
  {
   "cell_type": "code",
   "execution_count": 75,
   "id": "31c53a94",
   "metadata": {},
   "outputs": [
    {
     "name": "stdout",
     "output_type": "stream",
     "text": [
      "eigein values:\n",
      " [1.52955991 1.33398829 0.64834587 0.7404698  0.81554451 0.92460209\n",
      " 1.00989018 0.99669669 1.00094939 0.         0.         0.\n",
      " 0.         0.         0.         0.        ]\n",
      "\n",
      "\n",
      "eigein vector:\n",
      " [[ 0.00000000e+00  0.00000000e+00  0.00000000e+00  0.00000000e+00\n",
      "   0.00000000e+00  0.00000000e+00  0.00000000e+00  0.00000000e+00\n",
      "   0.00000000e+00  1.00000000e+00  0.00000000e+00  0.00000000e+00\n",
      "   0.00000000e+00  0.00000000e+00  0.00000000e+00  0.00000000e+00]\n",
      " [ 0.00000000e+00  0.00000000e+00  0.00000000e+00  0.00000000e+00\n",
      "   0.00000000e+00  0.00000000e+00  0.00000000e+00  0.00000000e+00\n",
      "   0.00000000e+00  0.00000000e+00  1.00000000e+00  0.00000000e+00\n",
      "   0.00000000e+00  0.00000000e+00  0.00000000e+00  0.00000000e+00]\n",
      " [ 0.00000000e+00  0.00000000e+00  0.00000000e+00  0.00000000e+00\n",
      "   0.00000000e+00  0.00000000e+00  0.00000000e+00  0.00000000e+00\n",
      "   0.00000000e+00  0.00000000e+00  0.00000000e+00  1.00000000e+00\n",
      "   0.00000000e+00  0.00000000e+00  0.00000000e+00  0.00000000e+00]\n",
      " [ 5.69771779e-01  2.32451284e-02  6.86349474e-01 -1.18804649e-02\n",
      "   2.06236019e-01 -1.30196001e-02 -3.88200758e-01  9.82815188e-02\n",
      "  -2.32625667e-02  0.00000000e+00  0.00000000e+00  0.00000000e+00\n",
      "   0.00000000e+00  0.00000000e+00  0.00000000e+00  0.00000000e+00]\n",
      " [ 0.00000000e+00  0.00000000e+00  0.00000000e+00  0.00000000e+00\n",
      "   0.00000000e+00  0.00000000e+00  0.00000000e+00  0.00000000e+00\n",
      "   0.00000000e+00  0.00000000e+00  0.00000000e+00  0.00000000e+00\n",
      "   1.00000000e+00  0.00000000e+00  0.00000000e+00  0.00000000e+00]\n",
      " [ 5.13827317e-01  4.51680744e-02 -1.76131929e-01 -4.29420518e-02\n",
      "  -8.36576894e-01 -1.09499884e-02  8.35291732e-04 -1.43958564e-02\n",
      "  -2.97677340e-02  0.00000000e+00  0.00000000e+00  0.00000000e+00\n",
      "   0.00000000e+00  0.00000000e+00  0.00000000e+00  0.00000000e+00]\n",
      " [ 7.91907958e-03  3.27827261e-03 -1.85478954e-02  1.67307582e-03\n",
      "   4.79954004e-02  3.26638046e-04 -1.98629283e-02 -3.19942984e-01\n",
      "  -9.45789619e-01  0.00000000e+00  0.00000000e+00  0.00000000e+00\n",
      "   0.00000000e+00  0.00000000e+00  0.00000000e+00  0.00000000e+00]\n",
      " [ 2.15000142e-02 -4.74553594e-01  4.97917619e-03  3.04570794e-01\n",
      "  -3.99839044e-02  8.23151400e-01 -3.85939007e-02  2.74839170e-02\n",
      "  -1.12552604e-02  0.00000000e+00  0.00000000e+00  0.00000000e+00\n",
      "   0.00000000e+00  0.00000000e+00  0.00000000e+00  0.00000000e+00]\n",
      " [ 4.06332120e-02 -5.82177351e-01  1.31861030e-02  5.90840774e-01\n",
      "  -3.20666754e-02 -5.54974863e-01  2.61071331e-02 -2.07527176e-02\n",
      "   3.76191691e-03  0.00000000e+00  0.00000000e+00  0.00000000e+00\n",
      "   0.00000000e+00  0.00000000e+00  0.00000000e+00  0.00000000e+00]\n",
      " [ 5.90315767e-01  4.75898488e-02 -6.29828947e-01  6.29217793e-02\n",
      "   4.92499985e-01  1.59336651e-02  3.07218049e-02  6.70413953e-02\n",
      "   1.92445904e-02  0.00000000e+00  0.00000000e+00  0.00000000e+00\n",
      "   0.00000000e+00  0.00000000e+00  0.00000000e+00  0.00000000e+00]\n",
      " [ 4.84111428e-02 -6.56498260e-01 -4.66035631e-02 -7.43001594e-01\n",
      "   4.35640358e-02 -1.02595855e-01 -1.91684510e-04  4.13980828e-03\n",
      "  -1.49170820e-03  0.00000000e+00  0.00000000e+00  0.00000000e+00\n",
      "   0.00000000e+00  0.00000000e+00  0.00000000e+00  0.00000000e+00]\n",
      " [ 0.00000000e+00  0.00000000e+00  0.00000000e+00  0.00000000e+00\n",
      "   0.00000000e+00  0.00000000e+00  0.00000000e+00  0.00000000e+00\n",
      "   0.00000000e+00  0.00000000e+00  0.00000000e+00  0.00000000e+00\n",
      "   0.00000000e+00  1.00000000e+00  0.00000000e+00  0.00000000e+00]\n",
      " [ 8.08025217e-02 -1.13042945e-04  2.12272203e-02 -3.55792952e-03\n",
      "   4.95175962e-02  3.36071575e-02 -7.53986962e-02 -9.38203490e-01\n",
      "   3.21738248e-01  0.00000000e+00  0.00000000e+00  0.00000000e+00\n",
      "   0.00000000e+00  0.00000000e+00  0.00000000e+00  0.00000000e+00]\n",
      " [ 0.00000000e+00  0.00000000e+00  0.00000000e+00  0.00000000e+00\n",
      "   0.00000000e+00  0.00000000e+00  0.00000000e+00  0.00000000e+00\n",
      "   0.00000000e+00  0.00000000e+00  0.00000000e+00  0.00000000e+00\n",
      "   0.00000000e+00  0.00000000e+00  1.00000000e+00  0.00000000e+00]\n",
      " [ 2.27640500e-01  4.73379001e-03  3.13132981e-01 -1.15181771e-02\n",
      "   7.59553193e-02  4.71796869e-02  9.16572439e-01 -4.29706061e-02\n",
      "  -5.08121328e-03  0.00000000e+00  0.00000000e+00  0.00000000e+00\n",
      "   0.00000000e+00  0.00000000e+00  0.00000000e+00  0.00000000e+00]\n",
      " [ 0.00000000e+00  0.00000000e+00  0.00000000e+00  0.00000000e+00\n",
      "   0.00000000e+00  0.00000000e+00  0.00000000e+00  0.00000000e+00\n",
      "   0.00000000e+00  0.00000000e+00  0.00000000e+00  0.00000000e+00\n",
      "   0.00000000e+00  0.00000000e+00  0.00000000e+00  1.00000000e+00]]\n"
     ]
    }
   ],
   "source": [
    "eig_vals,eig_vectors=np.linalg.eig(cov_matrix)\n",
    "print('eigein values:' '\\n',eig_vals)\n",
    "print('\\n')\n",
    "print('eigein vector:' '\\n',eig_vectors)"
   ]
  },
  {
   "cell_type": "code",
   "execution_count": 76,
   "id": "b5b8e44c",
   "metadata": {},
   "outputs": [
    {
     "name": "stdout",
     "output_type": "stream",
     "text": [
      "Explained Variance:  [16.995021841113793, 14.822015137917944, 11.220943761195864, 11.121602129245288, 11.074350202500586, 10.273303201172949, 9.061558640017687, 8.227399522689018, 7.203805564146873, 0.0, 0.0, 0.0, 0.0, 0.0, 0.0, 0.0]\n",
      "Cummulative Variance Explained:  [ 16.99502184  31.81703698  43.03798074  54.15958287  65.23393307\n",
      "  75.50723627  84.56879491  92.79619444 100.         100.\n",
      " 100.         100.         100.         100.         100.\n",
      " 100.        ]\n"
     ]
    }
   ],
   "source": [
    "total=sum(eig_vals)\n",
    "var_exp=[(i/total)*100 for i in sorted (eig_vals,reverse=True)]\n",
    "cum_var_exp=np.cumsum(var_exp)\n",
    "print('Explained Variance: ',var_exp)\n",
    "print('Cummulative Variance Explained: ',cum_var_exp)"
   ]
  },
  {
   "cell_type": "code",
   "execution_count": 77,
   "id": "87fd7591",
   "metadata": {},
   "outputs": [
    {
     "data": {
      "image/png": "[encoded data removed]",
      "text/plain": [
       "<Figure size 432x288 with 1 Axes>"
      ]
     },
     "metadata": {
      "needs_background": "light"
     },
     "output_type": "display_data"
    }
   ],
   "source": [
    "plt.bar(range(0,len(var_exp)),var_exp,align='center',alpha=0.5,color='green',label='Explained Variance')\n",
    "plt.step(range(0,len(cum_var_exp)),cum_var_exp,where='mid',color='blue',label='Cummulative Explained Variance')\n",
    "plt.xlabel('Principal Component')\n",
    "plt.ylabel('Explained Variance ratio')\n",
    "plt.title('Scree plot')\n",
    "plt.legend(loc='best')\n",
    "plt.tight_layout()\n",
    "plt.show()"
   ]
  },
  {
   "cell_type": "markdown",
   "id": "4af7a554",
   "metadata": {},
   "source": [
    "# 15. Apply K-means clustering and segment the data. (You may use original data or PCA transformed data) "
   ]
  },
  {
   "cell_type": "code",
   "execution_count": 78,
   "id": "9113fb8a",
   "metadata": {},
   "outputs": [
    {
     "data": {
      "text/html": [
       "<div>\n",
       "<style scoped>\n",
       "    .dataframe tbody tr th:only-of-type {\n",
       "        vertical-align: middle;\n",
       "    }\n",
       "\n",
       "    .dataframe tbody tr th {\n",
       "        vertical-align: top;\n",
       "    }\n",
       "\n",
       "    .dataframe thead th {\n",
       "        text-align: right;\n",
       "    }\n",
       "</style>\n",
       "<table border=\"1\" class=\"dataframe\">\n",
       "  <thead>\n",
       "    <tr style=\"text-align: right;\">\n",
       "      <th></th>\n",
       "      <th>PC1</th>\n",
       "      <th>PC2</th>\n",
       "      <th>PC3</th>\n",
       "      <th>PC4</th>\n",
       "      <th>PC5</th>\n",
       "      <th>PC6</th>\n",
       "      <th>PC7</th>\n",
       "      <th>PC8</th>\n",
       "    </tr>\n",
       "  </thead>\n",
       "  <tbody>\n",
       "    <tr>\n",
       "      <th>0</th>\n",
       "      <td>-0.599267</td>\n",
       "      <td>-0.000681</td>\n",
       "      <td>0.056882</td>\n",
       "      <td>-0.015675</td>\n",
       "      <td>-0.020370</td>\n",
       "      <td>0.007398</td>\n",
       "      <td>-0.140652</td>\n",
       "      <td>0.023929</td>\n",
       "    </tr>\n",
       "    <tr>\n",
       "      <th>1</th>\n",
       "      <td>-0.599267</td>\n",
       "      <td>-0.000681</td>\n",
       "      <td>0.056882</td>\n",
       "      <td>-0.015675</td>\n",
       "      <td>-0.020370</td>\n",
       "      <td>0.007398</td>\n",
       "      <td>-0.140652</td>\n",
       "      <td>0.023929</td>\n",
       "    </tr>\n",
       "    <tr>\n",
       "      <th>2</th>\n",
       "      <td>4.982774</td>\n",
       "      <td>-0.383865</td>\n",
       "      <td>-1.144994</td>\n",
       "      <td>0.072917</td>\n",
       "      <td>-0.567837</td>\n",
       "      <td>-0.006956</td>\n",
       "      <td>-0.392971</td>\n",
       "      <td>0.102509</td>\n",
       "    </tr>\n",
       "    <tr>\n",
       "      <th>3</th>\n",
       "      <td>-0.599267</td>\n",
       "      <td>-0.000681</td>\n",
       "      <td>0.056882</td>\n",
       "      <td>-0.015675</td>\n",
       "      <td>-0.020370</td>\n",
       "      <td>0.007398</td>\n",
       "      <td>-0.140652</td>\n",
       "      <td>0.023929</td>\n",
       "    </tr>\n",
       "    <tr>\n",
       "      <th>4</th>\n",
       "      <td>-0.599267</td>\n",
       "      <td>-0.000681</td>\n",
       "      <td>0.056882</td>\n",
       "      <td>-0.015675</td>\n",
       "      <td>-0.020370</td>\n",
       "      <td>0.007398</td>\n",
       "      <td>-0.140652</td>\n",
       "      <td>0.023929</td>\n",
       "    </tr>\n",
       "  </tbody>\n",
       "</table>\n",
       "</div>"
      ],
      "text/plain": [
       "        PC1       PC2       PC3       PC4       PC5       PC6       PC7  \\\n",
       "0 -0.599267 -0.000681  0.056882 -0.015675 -0.020370  0.007398 -0.140652   \n",
       "1 -0.599267 -0.000681  0.056882 -0.015675 -0.020370  0.007398 -0.140652   \n",
       "2  4.982774 -0.383865 -1.144994  0.072917 -0.567837 -0.006956 -0.392971   \n",
       "3 -0.599267 -0.000681  0.056882 -0.015675 -0.020370  0.007398 -0.140652   \n",
       "4 -0.599267 -0.000681  0.056882 -0.015675 -0.020370  0.007398 -0.140652   \n",
       "\n",
       "        PC8  \n",
       "0  0.023929  \n",
       "1  0.023929  \n",
       "2  0.102509  \n",
       "3  0.023929  \n",
       "4  0.023929  "
      ]
     },
     "execution_count": 78,
     "metadata": {},
     "output_type": "execute_result"
    }
   ],
   "source": [
    "from sklearn.decomposition import PCA\n",
    "pca=PCA(n_components=8)\n",
    "pca_df=pd.DataFrame(pca.fit_transform(scaled_features_df1),columns=['PC1','PC2','PC3','PC4','PC5','PC6','PC7','PC8'])\n",
    "pca_df.head()"
   ]
  },
  {
   "cell_type": "code",
   "execution_count": 79,
   "id": "3628d8bb",
   "metadata": {},
   "outputs": [],
   "source": [
    "from sklearn.cluster import KMeans\n",
    "cluster_errors=[]\n",
    "cluster_range=range(2,15)\n",
    "for num_clusters in cluster_range:\n",
    "    clusters=KMeans(num_clusters,random_state=100)\n",
    "    clusters.fit(pca_df)\n",
    "    cluster_errors.append(clusters.inertia_)"
   ]
  },
  {
   "cell_type": "code",
   "execution_count": 81,
   "id": "b58848a4",
   "metadata": {},
   "outputs": [
    {
     "data": {
      "image/png": "[encoded data removed]",
      "text/plain": [
       "<Figure size 1080x360 with 1 Axes>"
      ]
     },
     "metadata": {
      "needs_background": "light"
     },
     "output_type": "display_data"
    }
   ],
   "source": [
    "cluster_df=pd.DataFrame({'num_clusters':cluster_range,'cluster_errors':cluster_errors})\n",
    "\n",
    "#Elbow Plot\n",
    "plt.figure(figsize=[15,5])\n",
    "plt.plot(cluster_df['num_clusters'],cluster_df['cluster_errors'],marker='o',color='g')\n",
    "plt.show()"
   ]
  },
  {
   "cell_type": "code",
   "execution_count": null,
   "id": "0b94d5d9",
   "metadata": {},
   "outputs": [],
   "source": []
  }
 ],
 "metadata": {
  "kernelspec": {
   "display_name": "Python 3",
   "language": "python",
   "name": "python3"
  },
  "language_info": {
   "codemirror_mode": {
    "name": "ipython",
    "version": 3
   },
   "file_extension": ".py",
   "mimetype": "text/x-python",
   "name": "python",
   "nbconvert_exporter": "python",
   "pygments_lexer": "ipython3",
   "version": "3.8.8"
  }
 },
 "nbformat": 4,
 "nbformat_minor": 5
}
